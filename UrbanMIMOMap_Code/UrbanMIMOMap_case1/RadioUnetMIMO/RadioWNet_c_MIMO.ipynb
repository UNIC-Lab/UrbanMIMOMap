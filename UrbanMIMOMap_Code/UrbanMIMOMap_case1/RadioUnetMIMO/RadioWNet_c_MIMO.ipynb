{
 "cells": [
  {
   "cell_type": "markdown",
   "metadata": {},
   "source": [
    "# Check Dataset"
   ]
  },
  {
   "cell_type": "code",
   "execution_count": 3,
   "metadata": {},
   "outputs": [
    {
     "name": "stdout",
     "output_type": "stream",
     "text": [
      "import finished!\n",
      "cuda:2\n",
      "30000 6000 6000\n",
      "469 94\n",
      "保存验证图片的文件夹: 'dataset_verification_samples/'\n",
      "\n",
      "--- 正在处理 train 集 ---\n",
      "已保存: dataset_verification_samples/train_157_0_0.png\n",
      "已保存: dataset_verification_samples/train_157_0_60.png\n",
      "已保存: dataset_verification_samples/train_157_0_120.png\n",
      "已保存: dataset_verification_samples/train_157_1_0.png\n",
      "已保存: dataset_verification_samples/train_157_1_60.png\n",
      "\n",
      "--- 正在处理 val 集 ---\n",
      "已保存: dataset_verification_samples/val_213_0_0.png\n",
      "已保存: dataset_verification_samples/val_213_0_60.png\n",
      "已保存: dataset_verification_samples/val_213_0_120.png\n",
      "已保存: dataset_verification_samples/val_213_1_0.png\n",
      "已保存: dataset_verification_samples/val_213_1_60.png\n",
      "\n",
      "--- 正在处理 test 集 ---\n",
      "已保存: dataset_verification_samples/test_34_0_0.png\n",
      "已保存: dataset_verification_samples/test_34_0_60.png\n",
      "已保存: dataset_verification_samples/test_34_0_120.png\n",
      "已保存: dataset_verification_samples/test_34_1_0.png\n",
      "已保存: dataset_verification_samples/test_34_1_60.png\n"
     ]
    }
   ],
   "source": [
    "%reset -f\n",
    "import warnings\n",
    "from collections import defaultdict\n",
    "\n",
    "warnings.filterwarnings(\"ignore\")\n",
    "import os\n",
    "import numpy as np\n",
    "import matplotlib.pyplot as plt\n",
    "\n",
    "from lib import loaders_mimo, modules\n",
    "from torchsummary import summary\n",
    "import torch\n",
    "import torch.optim as optim\n",
    "from torch.optim import lr_scheduler\n",
    "from torch.utils.data import DataLoader\n",
    "import torch.nn as nn\n",
    "from tqdm import tqdm\n",
    "\n",
    "import copy\n",
    "import time\n",
    "print('import finished!')\n",
    "\n",
    "device = torch.device(\"cuda:2\" if torch.cuda.is_available() else \"cpu\")\n",
    "print(device)\n",
    "\n",
    "dir_dataset1 = r'/mnt/mydisk/hgjia/data/UrbanMIMOMap'\n",
    "Radio_train = loaders_mimo.RadioUNet_c_mimo(phase=\"train\", dir_dataset=dir_dataset1)\n",
    "Radio_val = loaders_mimo.RadioUNet_c_mimo(phase=\"val\",dir_dataset=dir_dataset1)\n",
    "Radio_test = loaders_mimo.RadioUNet_c_mimo(phase=\"test\",dir_dataset=dir_dataset1)\n",
    "print(len(Radio_train), len(Radio_val), len(Radio_test))\n",
    "\n",
    "\n",
    "batch_size = 64\n",
    "dataloaders = {\n",
    "    'train': DataLoader(Radio_train, batch_size = batch_size, shuffle = True, num_workers = 2),\n",
    "    'val': DataLoader(Radio_val, batch_size = batch_size, shuffle = True, num_workers = 2)\n",
    "}\n",
    "print(len(dataloaders['train']), len(dataloaders['val']))\n",
    "\n",
    "# ==================================================================\n",
    "# ===== 新增的验证代码从这里开始 =====\n",
    "# ==================================================================\n",
    "\n",
    "# 1. 创建一个新的文件夹用于保存测试结果\n",
    "output_dir = 'dataset_verification_samples'\n",
    "os.makedirs(output_dir, exist_ok=True)\n",
    "print(f\"保存验证图片的文件夹: '{output_dir}/'\")\n",
    "\n",
    "# 2. 从每个集中取5个例子\n",
    "datasets_to_check = {\n",
    "    'train': Radio_train,\n",
    "    'val': Radio_val,\n",
    "    'test': Radio_test\n",
    "}\n",
    "num_samples_to_check = 5\n",
    "\n",
    "for phase, dataset in datasets_to_check.items():\n",
    "    print(f\"\\n--- 正在处理 {phase} 集 ---\")\n",
    "    for i in range(num_samples_to_check):\n",
    "        # 从加载器中获取数据\n",
    "        inputs_tensor, gain_tensor, name = dataset[i]\n",
    "\n",
    "        # 3. 将Tensor转换为可显示的Numpy数组\n",
    "        # --- 处理Input Tensor (4通道 -> 3通道RGB) ---\n",
    "        # 我们将Buildings映射到红色通道，Tx映射到绿色通道\n",
    "        buildings_channel = inputs_tensor[0].numpy()\n",
    "        tx_channel = inputs_tensor[1].numpy()\n",
    "        \n",
    "        # 创建一个 HxWxC 格式的RGB图像\n",
    "        input_rgb_np = np.zeros((512, 512, 3), dtype=np.uint8)\n",
    "        input_rgb_np[:, :, 0] = (buildings_channel * 255).astype(np.uint8) # 红色: 建筑物\n",
    "        input_rgb_np[:, :, 1] = (tx_channel * 255).astype(np.uint8)      # 绿色: 发射器\n",
    "\n",
    "        # --- 处理Gain Tensor (1通道 -> 3通道RGB) ---\n",
    "        gain_np = gain_tensor.squeeze(0).numpy() # 移除通道维度\n",
    "        gain_rgb_np = (np.stack([gain_np] * 3, axis=-1) * 255).astype(np.uint8)\n",
    "\n",
    "        # 4. 将Input和Gain拼接并保存\n",
    "        fig, ax = plt.subplots(1, 2, figsize=(12, 6))\n",
    "        fig.suptitle(f'Sample from {phase.upper()} Set - Name: {name}', fontsize=16)\n",
    "\n",
    "        # 显示输入图像\n",
    "        ax[0].imshow(input_rgb_np)\n",
    "        ax[0].set_title('Input (R: Buildings, G: Tx)')\n",
    "        ax[0].axis('off')\n",
    "        \n",
    "        # 在发射器位置添加绿色\"×\"标记\n",
    "        tx_positions = np.where(tx_channel > 0)\n",
    "        if len(tx_positions[0]) > 0:\n",
    "            for y, x in zip(tx_positions[0], tx_positions[1]):\n",
    "                # 将像素坐标转换为图像坐标\n",
    "                ax[0].plot(x, y, 'gx', markersize=8, markeredgewidth=2)\n",
    "\n",
    "        ax[1].imshow(gain_rgb_np)\n",
    "        ax[1].set_title('Ground Truth (Gain)')\n",
    "        ax[1].axis('off')\n",
    "        \n",
    "        # 构建文件名并保存\n",
    "        filename = os.path.join(output_dir, f\"{phase}_{name}.png\")\n",
    "        plt.savefig(filename, bbox_inches='tight')\n",
    "        plt.close(fig) # 关闭图像以释放内存\n",
    "        \n",
    "        print(f\"已保存: {filename}\")"
   ]
  },
  {
   "cell_type": "markdown",
   "metadata": {},
   "source": [
    "## Dataset Loader"
   ]
  },
  {
   "cell_type": "code",
   "execution_count": 4,
   "metadata": {
    "ExecuteTime": {
     "end_time": "2025-04-27T08:07:13.776594Z",
     "start_time": "2025-04-27T08:07:13.762224Z"
    }
   },
   "outputs": [
    {
     "name": "stdout",
     "output_type": "stream",
     "text": [
      "469 94\n"
     ]
    }
   ],
   "source": [
    "batch_size = 64\n",
    "dataloaders = {\n",
    "    'train': DataLoader(Radio_train, batch_size = batch_size, shuffle = True, num_workers = 2),\n",
    "    'val': DataLoader(Radio_val, batch_size = batch_size, shuffle = True, num_workers = 2)\n",
    "}\n",
    "print(len(dataloaders['train']), len(dataloaders['val']))\n"
   ]
  },
  {
   "cell_type": "markdown",
   "metadata": {},
   "source": [
    "## Test Sample Image"
   ]
  },
  {
   "cell_type": "code",
   "execution_count": 5,
   "metadata": {
    "ExecuteTime": {
     "end_time": "2025-04-27T04:21:33.629793Z",
     "start_time": "2025-04-27T04:21:33.272412Z"
    }
   },
   "outputs": [
    {
     "name": "stdout",
     "output_type": "stream",
     "text": [
      "torch.Size([4, 512, 512]) torch.Size([1, 512, 512]) gain_name:157_0_0\n"
     ]
    },
    {
     "data": {
      "text/plain": [
       "<matplotlib.image.AxesImage at 0x7f4b18ce1fd0>"
      ]
     },
     "execution_count": 5,
     "metadata": {},
     "output_type": "execute_result"
    },
    {
     "data": {
      "image/png": "[encoded data removed]",
      "text/plain": [
       "<Figure size 640x480 with 1 Axes>"
      ]
     },
     "metadata": {},
     "output_type": "display_data"
    }
   ],
   "source": [
    "i = 0\n",
    "image_build_ant, image_gain, gain_name_for_check = Radio_train[i]\n",
    "print(image_build_ant.shape, image_gain.shape, f\"gain_name:{gain_name_for_check}\")\n",
    "plt.imshow(image_gain[0], cmap = \"gray\")"
   ]
  },
  {
   "cell_type": "code",
   "execution_count": 6,
   "metadata": {
    "ExecuteTime": {
     "end_time": "2025-04-27T04:21:33.645073Z",
     "start_time": "2025-04-27T04:21:33.631085Z"
    }
   },
   "outputs": [
    {
     "name": "stdout",
     "output_type": "stream",
     "text": [
      "torch.Size([512, 512])\n"
     ]
    },
    {
     "data": {
      "text/plain": [
       "<matplotlib.image.AxesImage at 0x7f4b18d75410>"
      ]
     },
     "execution_count": 6,
     "metadata": {},
     "output_type": "execute_result"
    },
    {
     "data": {
      "image/png": "[encoded data removed]",
      "text/plain": [
       "<Figure size 640x480 with 1 Axes>"
      ]
     },
     "metadata": {},
     "output_type": "display_data"
    }
   ],
   "source": [
    "print(image_build_ant[0].shape)\n",
    "plt.imshow(image_build_ant[0], cmap = \"gray\")"
   ]
  },
  {
   "cell_type": "code",
   "execution_count": 8,
   "metadata": {
    "ExecuteTime": {
     "end_time": "2025-04-27T04:21:33.660602Z",
     "start_time": "2025-04-27T04:21:33.646540Z"
    }
   },
   "outputs": [
    {
     "name": "stdout",
     "output_type": "stream",
     "text": [
      "1\n",
      "(array([234]), array([330]))\n",
      "tensor([1.])\n"
     ]
    },
    {
     "data": {
      "image/png": "[encoded data removed]",
      "text/plain": [
       "<Figure size 640x480 with 1 Axes>"
      ]
     },
     "metadata": {},
     "output_type": "display_data"
    }
   ],
   "source": [
    "img1 = image_build_ant[1]\n",
    "plt.imshow(img1, cmap = \"gray\")\n",
    "\n",
    "# 打印这个矩阵的非空值，打印坐标，打印值\n",
    "print(np.count_nonzero(img1))\n",
    "print(np.where(img1))\n",
    "print(img1[np.where(img1)])\n",
    "\n",
    "# 在发射器位置添加绿色\"×\"标记\n",
    "tx_positions = np.where(img1 > 0)\n",
    "if len(tx_positions[0]) > 0:\n",
    "    for y, x in zip(tx_positions[0], tx_positions[1]):\n",
    "        plt.plot(x, y, 'gx', markersize=8, markeredgewidth=2)\n",
    "\n",
    "plt.title('Transmitter Positions with Green X Markers')\n",
    "plt.show()"
   ]
  },
  {
   "cell_type": "markdown",
   "metadata": {},
   "source": [
    "## Load Model and Summary"
   ]
  },
  {
   "cell_type": "code",
   "execution_count": 8,
   "metadata": {
    "ExecuteTime": {
     "end_time": "2025-04-27T04:21:33.973123Z",
     "start_time": "2025-04-27T04:21:33.662101Z"
    },
    "scrolled": true
   },
   "outputs": [],
   "source": [
    "from torchsummary import summary\n",
    "\n",
    "# torch.set_default_dtype(torch.cuda.FloatTensor)\n",
    "# torch.set_default_tensor_type('torch.cuda.FloatTensor')\n",
    "torch.backends.cudnn.enabled\n",
    "model = modules.RadioWNet(phase = \"firstU\")\n",
    "# summary(model, input_size = (2, 512, 512))"
   ]
  },
  {
   "cell_type": "markdown",
   "metadata": {},
   "source": [
    "## Training Loop"
   ]
  },
  {
   "cell_type": "code",
   "execution_count": 9,
   "metadata": {
    "ExecuteTime": {
     "end_time": "2025-04-27T04:21:34.004444Z",
     "start_time": "2025-04-27T04:21:33.974118Z"
    }
   },
   "outputs": [],
   "source": [
    "#Adapted from https://github.com/usuyama/pytorch-unet\n",
    "\n",
    "\n",
    "def calc_loss_dense(pred, target, metrics):\n",
    "    criterion = nn.MSELoss()\n",
    "    loss = criterion(pred, target)\n",
    "    metrics['loss'] += loss.data.cpu().numpy() * target.size(0)\n",
    "\n",
    "    return loss\n",
    "\n",
    "\n",
    "def calc_loss_sparse(pred, target, samples, metrics, num_samples):\n",
    "    criterion = nn.MSELoss()\n",
    "    loss = criterion(samples * pred, samples * target) * (256 ** 2) / num_samples\n",
    "    metrics['loss'] += loss.data.cpu().numpy() * target.size(0)\n",
    "\n",
    "    return loss\n",
    "\n",
    "\n",
    "def print_metrics(metrics, epoch_samples, phase):\n",
    "    outputs1 = []\n",
    "    outputs2 = []\n",
    "    for k in metrics.keys():\n",
    "        outputs1.append(\"{}: {:4f}\".format(k, metrics[k] / epoch_samples))\n",
    "\n",
    "    print(\"{}: {}\".format(phase, \", \".join(outputs1)))\n",
    "\n",
    "\n",
    "def train_model(model, optimizer, scheduler, \n",
    "                num_epochs = 30, \n",
    "                WNetPhase = \"firstU\", \n",
    "                targetType = \"dense\", \n",
    "                num_samples = 200, \n",
    "                device = device):\n",
    "    # WNetPhase: traine first U and freez second (\"firstU\"), or vice verse (\"secondU\").\n",
    "    # targetType: train against dense images (\"dense\") or sparse measurements (\"sparse\")\n",
    "    best_model_wts = copy.deepcopy(model.state_dict())\n",
    "    best_loss = 1e10\n",
    "\n",
    "    for epoch in range(num_epochs):\n",
    "        print('Epoch {}/{}'.format(epoch, num_epochs - 1))\n",
    "        print('-' * 10)\n",
    "\n",
    "        since = time.time()\n",
    "\n",
    "        # Each epoch has a training and validation phase\n",
    "        for phase in ['train', 'val']:\n",
    "            if phase == 'train':\n",
    "                scheduler.step()\n",
    "                for param_group in optimizer.param_groups:\n",
    "                    print(\"learning rate\", param_group['lr'])\n",
    "                model.train()  # Set model to training mode\n",
    "            else:\n",
    "                model.eval()  # Set model to evaluate mode\n",
    "\n",
    "            metrics = defaultdict(float)\n",
    "            epoch_samples = 0\n",
    "\n",
    "            if targetType == \"dense\":\n",
    "                for batch_idx, (inputs, targets, gain_name_for_check) in tqdm(enumerate(dataloaders[phase]), total=len(dataloaders[phase]), desc=f'{phase} dense'):\n",
    "                    inputs = inputs.to(device)\n",
    "                    targets = targets.to(device)\n",
    "\n",
    "                    # zero the parameter gradients\n",
    "                    optimizer.zero_grad()\n",
    "\n",
    "                    # forward\n",
    "                    # track history if only in train\n",
    "                    with torch.set_grad_enabled(phase == 'train'):\n",
    "                        [outputs1, outputs2] = model(inputs)\n",
    "                        if WNetPhase == \"firstU\":\n",
    "                            loss = calc_loss_dense(outputs1, targets, metrics)\n",
    "                        else:\n",
    "                            loss = calc_loss_dense(outputs2, targets, metrics)\n",
    "\n",
    "                        # backward + optimize only if in training phase\n",
    "                        if phase == 'train':\n",
    "                            loss.backward()\n",
    "                            optimizer.step()\n",
    "\n",
    "                    # statistics\n",
    "                    epoch_samples += inputs.size(0)\n",
    "            elif targetType == \"sparse\":\n",
    "                for inputs, targets, samples in dataloaders[phase]:\n",
    "                    inputs = inputs.to(device)\n",
    "                    targets = targets.to(device)\n",
    "                    samples = samples.to(device)\n",
    "\n",
    "                    # zero the parameter gradients\n",
    "                    optimizer.zero_grad()\n",
    "\n",
    "                    # forward\n",
    "                    # track history if only in train\n",
    "                    with torch.set_grad_enabled(phase == 'train'):\n",
    "                        [outputs1, outputs2] = model(inputs)\n",
    "                        if WNetPhase == \"firstU\":\n",
    "                            loss = calc_loss_sparse(outputs1, targets, samples, metrics, num_samples)\n",
    "                        else:\n",
    "                            loss = calc_loss_sparse(outputs2, targets, samples, metrics, num_samples)\n",
    "\n",
    "                        # backward + optimize only if in training phase\n",
    "                        if phase == 'train':\n",
    "                            loss.backward()\n",
    "                            optimizer.step()\n",
    "\n",
    "                    # statistics\n",
    "                    epoch_samples += inputs.size(0)\n",
    "\n",
    "            print_metrics(metrics, epoch_samples, phase)\n",
    "            epoch_loss = metrics['loss'] / epoch_samples\n",
    "\n",
    "            # deep copy the model\n",
    "            if phase == 'val' and epoch_loss < best_loss:\n",
    "                print(\"saving best model\")\n",
    "                best_loss = epoch_loss\n",
    "                best_model_wts = copy.deepcopy(model.state_dict())\n",
    "\n",
    "        time_elapsed = time.time() - since\n",
    "        print('{:.0f}m {:.0f}s'.format(time_elapsed // 60, time_elapsed % 60))\n",
    "\n",
    "    print('Best val loss: {:4f}'.format(best_loss))\n",
    "\n",
    "    # load best model weights\n",
    "    model.load_state_dict(best_model_wts)\n",
    "    return model"
   ]
  },
  {
   "cell_type": "markdown",
   "metadata": {},
   "source": [
    "## Training First UNet\n"
   ]
  },
  {
   "cell_type": "code",
   "execution_count": 10,
   "metadata": {
    "ExecuteTime": {
     "end_time": "2025-04-27T04:21:34.035872Z",
     "start_time": "2025-04-27T04:21:34.005489Z"
    }
   },
   "outputs": [
    {
     "name": "stdout",
     "output_type": "stream",
     "text": [
      "Epoch 0/19\n",
      "----------\n",
      "learning rate 1e-05\n"
     ]
    },
    {
     "name": "stderr",
     "output_type": "stream",
     "text": [
      "train dense: 100%|██████████| 469/469 [12:09<00:00,  1.56s/it]"
     ]
    },
    {
     "name": "stdout",
     "output_type": "stream",
     "text": [
      "train: loss: 0.084192\n"
     ]
    },
    {
     "name": "stderr",
     "output_type": "stream",
     "text": [
      "\n",
      "val dense: 100%|██████████| 94/94 [01:27<00:00,  1.08it/s]"
     ]
    },
    {
     "name": "stdout",
     "output_type": "stream",
     "text": [
      "val: loss: 0.039359\n",
      "saving best model\n",
      "13m 37s\n",
      "Epoch 1/19\n",
      "----------\n",
      "learning rate 1e-05\n"
     ]
    },
    {
     "name": "stderr",
     "output_type": "stream",
     "text": [
      "\n",
      "train dense: 100%|██████████| 469/469 [12:09<00:00,  1.56s/it]"
     ]
    },
    {
     "name": "stdout",
     "output_type": "stream",
     "text": [
      "train: loss: 0.036453\n"
     ]
    },
    {
     "name": "stderr",
     "output_type": "stream",
     "text": [
      "\n",
      "val dense: 100%|██████████| 94/94 [01:27<00:00,  1.08it/s]"
     ]
    },
    {
     "name": "stdout",
     "output_type": "stream",
     "text": [
      "val: loss: 0.034746\n",
      "saving best model\n",
      "13m 37s\n",
      "Epoch 2/19\n",
      "----------\n",
      "learning rate 1e-05\n"
     ]
    },
    {
     "name": "stderr",
     "output_type": "stream",
     "text": [
      "\n",
      "train dense: 100%|██████████| 469/469 [12:10<00:00,  1.56s/it]"
     ]
    },
    {
     "name": "stdout",
     "output_type": "stream",
     "text": [
      "train: loss: 0.033718\n"
     ]
    },
    {
     "name": "stderr",
     "output_type": "stream",
     "text": [
      "\n",
      "val dense: 100%|██████████| 94/94 [01:27<00:00,  1.08it/s]"
     ]
    },
    {
     "name": "stdout",
     "output_type": "stream",
     "text": [
      "val: loss: 0.032855\n",
      "saving best model\n",
      "13m 38s\n",
      "Epoch 3/19\n",
      "----------\n",
      "learning rate 1e-05\n"
     ]
    },
    {
     "name": "stderr",
     "output_type": "stream",
     "text": [
      "\n",
      "train dense: 100%|██████████| 469/469 [12:10<00:00,  1.56s/it]"
     ]
    },
    {
     "name": "stdout",
     "output_type": "stream",
     "text": [
      "train: loss: 0.032608\n"
     ]
    },
    {
     "name": "stderr",
     "output_type": "stream",
     "text": [
      "\n",
      "val dense: 100%|██████████| 94/94 [01:27<00:00,  1.07it/s]\n"
     ]
    },
    {
     "name": "stdout",
     "output_type": "stream",
     "text": [
      "val: loss: 0.032009\n",
      "saving best model\n",
      "13m 38s\n",
      "Epoch 4/19\n",
      "----------\n",
      "learning rate 1e-05\n"
     ]
    },
    {
     "name": "stderr",
     "output_type": "stream",
     "text": [
      "train dense: 100%|██████████| 469/469 [12:10<00:00,  1.56s/it]"
     ]
    },
    {
     "name": "stdout",
     "output_type": "stream",
     "text": [
      "train: loss: 0.031936\n"
     ]
    },
    {
     "name": "stderr",
     "output_type": "stream",
     "text": [
      "\n",
      "val dense: 100%|██████████| 94/94 [01:27<00:00,  1.08it/s]"
     ]
    },
    {
     "name": "stdout",
     "output_type": "stream",
     "text": [
      "val: loss: 0.031496\n",
      "saving best model\n",
      "13m 38s\n",
      "Epoch 5/19\n",
      "----------\n",
      "learning rate 1e-05\n"
     ]
    },
    {
     "name": "stderr",
     "output_type": "stream",
     "text": [
      "\n",
      "train dense: 100%|██████████| 469/469 [12:10<00:00,  1.56s/it]"
     ]
    },
    {
     "name": "stdout",
     "output_type": "stream",
     "text": [
      "train: loss: 0.031439\n"
     ]
    },
    {
     "name": "stderr",
     "output_type": "stream",
     "text": [
      "\n",
      "val dense: 100%|██████████| 94/94 [01:28<00:00,  1.07it/s]\n"
     ]
    },
    {
     "name": "stdout",
     "output_type": "stream",
     "text": [
      "val: loss: 0.031028\n",
      "saving best model\n",
      "13m 39s\n",
      "Epoch 6/19\n",
      "----------\n",
      "learning rate 1e-05\n"
     ]
    },
    {
     "name": "stderr",
     "output_type": "stream",
     "text": [
      "train dense: 100%|██████████| 469/469 [12:09<00:00,  1.56s/it]"
     ]
    },
    {
     "name": "stdout",
     "output_type": "stream",
     "text": [
      "train: loss: 0.031031\n"
     ]
    },
    {
     "name": "stderr",
     "output_type": "stream",
     "text": [
      "\n",
      "val dense: 100%|██████████| 94/94 [01:27<00:00,  1.07it/s]\n"
     ]
    },
    {
     "name": "stdout",
     "output_type": "stream",
     "text": [
      "val: loss: 0.030699\n",
      "saving best model\n",
      "13m 38s\n",
      "Epoch 7/19\n",
      "----------\n",
      "learning rate 1.0000000000000002e-06\n"
     ]
    },
    {
     "name": "stderr",
     "output_type": "stream",
     "text": [
      "train dense: 100%|██████████| 469/469 [12:10<00:00,  1.56s/it]"
     ]
    },
    {
     "name": "stdout",
     "output_type": "stream",
     "text": [
      "train: loss: 0.030740\n"
     ]
    },
    {
     "name": "stderr",
     "output_type": "stream",
     "text": [
      "\n",
      "val dense: 100%|██████████| 94/94 [01:27<00:00,  1.07it/s]"
     ]
    },
    {
     "name": "stdout",
     "output_type": "stream",
     "text": [
      "val: loss: 0.030618\n",
      "saving best model\n",
      "13m 38s\n",
      "Epoch 8/19\n",
      "----------\n",
      "learning rate 1.0000000000000002e-06\n"
     ]
    },
    {
     "name": "stderr",
     "output_type": "stream",
     "text": [
      "\n",
      "train dense: 100%|██████████| 469/469 [12:10<00:00,  1.56s/it]"
     ]
    },
    {
     "name": "stdout",
     "output_type": "stream",
     "text": [
      "train: loss: 0.030710\n"
     ]
    },
    {
     "name": "stderr",
     "output_type": "stream",
     "text": [
      "\n",
      "val dense: 100%|██████████| 94/94 [01:28<00:00,  1.07it/s]\n"
     ]
    },
    {
     "name": "stdout",
     "output_type": "stream",
     "text": [
      "val: loss: 0.030587\n",
      "saving best model\n",
      "13m 39s\n",
      "Epoch 9/19\n",
      "----------\n",
      "learning rate 1.0000000000000002e-06\n"
     ]
    },
    {
     "name": "stderr",
     "output_type": "stream",
     "text": [
      "train dense: 100%|██████████| 469/469 [12:10<00:00,  1.56s/it]"
     ]
    },
    {
     "name": "stdout",
     "output_type": "stream",
     "text": [
      "train: loss: 0.030673\n"
     ]
    },
    {
     "name": "stderr",
     "output_type": "stream",
     "text": [
      "\n",
      "val dense: 100%|██████████| 94/94 [01:27<00:00,  1.08it/s]\n"
     ]
    },
    {
     "name": "stdout",
     "output_type": "stream",
     "text": [
      "val: loss: 0.030564\n",
      "saving best model\n",
      "13m 39s\n",
      "Epoch 10/19\n",
      "----------\n",
      "learning rate 1.0000000000000002e-06\n"
     ]
    },
    {
     "name": "stderr",
     "output_type": "stream",
     "text": [
      "train dense: 100%|██████████| 469/469 [12:10<00:00,  1.56s/it]"
     ]
    },
    {
     "name": "stdout",
     "output_type": "stream",
     "text": [
      "train: loss: 0.030637\n"
     ]
    },
    {
     "name": "stderr",
     "output_type": "stream",
     "text": [
      "\n",
      "val dense: 100%|██████████| 94/94 [01:27<00:00,  1.07it/s]"
     ]
    },
    {
     "name": "stdout",
     "output_type": "stream",
     "text": [
      "val: loss: 0.030535\n",
      "saving best model\n",
      "13m 39s\n",
      "Epoch 11/19\n",
      "----------\n",
      "learning rate 1.0000000000000002e-06\n"
     ]
    },
    {
     "name": "stderr",
     "output_type": "stream",
     "text": [
      "\n",
      "train dense: 100%|██████████| 469/469 [12:11<00:00,  1.56s/it]"
     ]
    },
    {
     "name": "stdout",
     "output_type": "stream",
     "text": [
      "train: loss: 0.030597\n"
     ]
    },
    {
     "name": "stderr",
     "output_type": "stream",
     "text": [
      "\n",
      "val dense: 100%|██████████| 94/94 [01:28<00:00,  1.07it/s]"
     ]
    },
    {
     "name": "stdout",
     "output_type": "stream",
     "text": [
      "val: loss: 0.030512\n",
      "saving best model\n",
      "13m 39s\n",
      "Epoch 12/19\n",
      "----------\n",
      "learning rate 1.0000000000000002e-06\n"
     ]
    },
    {
     "name": "stderr",
     "output_type": "stream",
     "text": [
      "\n",
      "train dense: 100%|██████████| 469/469 [12:11<00:00,  1.56s/it]"
     ]
    },
    {
     "name": "stdout",
     "output_type": "stream",
     "text": [
      "train: loss: 0.030566\n"
     ]
    },
    {
     "name": "stderr",
     "output_type": "stream",
     "text": [
      "\n",
      "val dense: 100%|██████████| 94/94 [01:27<00:00,  1.07it/s]\n"
     ]
    },
    {
     "name": "stdout",
     "output_type": "stream",
     "text": [
      "val: loss: 0.030453\n",
      "saving best model\n",
      "13m 39s\n",
      "Epoch 13/19\n",
      "----------\n",
      "learning rate 1.0000000000000002e-06\n"
     ]
    },
    {
     "name": "stderr",
     "output_type": "stream",
     "text": [
      "train dense: 100%|██████████| 469/469 [12:12<00:00,  1.56s/it]"
     ]
    },
    {
     "name": "stdout",
     "output_type": "stream",
     "text": [
      "train: loss: 0.030528\n"
     ]
    },
    {
     "name": "stderr",
     "output_type": "stream",
     "text": [
      "\n",
      "val dense: 100%|██████████| 94/94 [01:27<00:00,  1.07it/s]\n"
     ]
    },
    {
     "name": "stdout",
     "output_type": "stream",
     "text": [
      "val: loss: 0.030427\n",
      "saving best model\n",
      "13m 40s\n",
      "Epoch 14/19\n",
      "----------\n",
      "learning rate 1.0000000000000002e-06\n"
     ]
    },
    {
     "name": "stderr",
     "output_type": "stream",
     "text": [
      "train dense: 100%|██████████| 469/469 [12:12<00:00,  1.56s/it]"
     ]
    },
    {
     "name": "stdout",
     "output_type": "stream",
     "text": [
      "train: loss: 0.030489\n"
     ]
    },
    {
     "name": "stderr",
     "output_type": "stream",
     "text": [
      "\n",
      "val dense: 100%|██████████| 94/94 [01:27<00:00,  1.07it/s]\n"
     ]
    },
    {
     "name": "stdout",
     "output_type": "stream",
     "text": [
      "val: loss: 0.030383\n",
      "saving best model\n",
      "13m 40s\n",
      "Epoch 15/19\n",
      "----------\n",
      "learning rate 1.0000000000000002e-07\n"
     ]
    },
    {
     "name": "stderr",
     "output_type": "stream",
     "text": [
      "train dense: 100%|██████████| 469/469 [12:11<00:00,  1.56s/it]"
     ]
    },
    {
     "name": "stdout",
     "output_type": "stream",
     "text": [
      "train: loss: 0.030457\n"
     ]
    },
    {
     "name": "stderr",
     "output_type": "stream",
     "text": [
      "\n",
      "val dense: 100%|██████████| 94/94 [01:27<00:00,  1.07it/s]"
     ]
    },
    {
     "name": "stdout",
     "output_type": "stream",
     "text": [
      "val: loss: 0.030374\n",
      "saving best model\n",
      "13m 40s\n",
      "Epoch 16/19\n",
      "----------\n",
      "learning rate 1.0000000000000002e-07\n"
     ]
    },
    {
     "name": "stderr",
     "output_type": "stream",
     "text": [
      "\n",
      "train dense: 100%|██████████| 469/469 [12:12<00:00,  1.56s/it]"
     ]
    },
    {
     "name": "stdout",
     "output_type": "stream",
     "text": [
      "train: loss: 0.030453\n"
     ]
    },
    {
     "name": "stderr",
     "output_type": "stream",
     "text": [
      "\n",
      "val dense: 100%|██████████| 94/94 [01:27<00:00,  1.08it/s]"
     ]
    },
    {
     "name": "stdout",
     "output_type": "stream",
     "text": [
      "val: loss: 0.030370\n",
      "saving best model\n",
      "13m 41s\n",
      "Epoch 17/19\n",
      "----------\n",
      "learning rate 1.0000000000000002e-07\n"
     ]
    },
    {
     "name": "stderr",
     "output_type": "stream",
     "text": [
      "\n",
      "train dense: 100%|██████████| 469/469 [12:11<00:00,  1.56s/it]"
     ]
    },
    {
     "name": "stdout",
     "output_type": "stream",
     "text": [
      "train: loss: 0.030448\n"
     ]
    },
    {
     "name": "stderr",
     "output_type": "stream",
     "text": [
      "\n",
      "val dense: 100%|██████████| 94/94 [01:27<00:00,  1.08it/s]"
     ]
    },
    {
     "name": "stdout",
     "output_type": "stream",
     "text": [
      "val: loss: 0.030368\n",
      "saving best model\n",
      "13m 39s\n",
      "Epoch 18/19\n",
      "----------\n",
      "learning rate 1.0000000000000002e-07\n"
     ]
    },
    {
     "name": "stderr",
     "output_type": "stream",
     "text": [
      "\n",
      "train dense: 100%|██████████| 469/469 [12:11<00:00,  1.56s/it]"
     ]
    },
    {
     "name": "stdout",
     "output_type": "stream",
     "text": [
      "train: loss: 0.030445\n"
     ]
    },
    {
     "name": "stderr",
     "output_type": "stream",
     "text": [
      "\n",
      "val dense: 100%|██████████| 94/94 [01:28<00:00,  1.06it/s]\n"
     ]
    },
    {
     "name": "stdout",
     "output_type": "stream",
     "text": [
      "val: loss: 0.030362\n",
      "saving best model\n",
      "13m 41s\n",
      "Epoch 19/19\n",
      "----------\n",
      "learning rate 1.0000000000000002e-07\n"
     ]
    },
    {
     "name": "stderr",
     "output_type": "stream",
     "text": [
      "train dense: 100%|██████████| 469/469 [12:13<00:00,  1.56s/it]"
     ]
    },
    {
     "name": "stdout",
     "output_type": "stream",
     "text": [
      "train: loss: 0.030441\n"
     ]
    },
    {
     "name": "stderr",
     "output_type": "stream",
     "text": [
      "\n",
      "val dense: 100%|██████████| 94/94 [01:27<00:00,  1.07it/s]\n"
     ]
    },
    {
     "name": "stdout",
     "output_type": "stream",
     "text": [
      "val: loss: 0.030360\n",
      "saving best model\n",
      "13m 42s\n",
      "Best val loss: 0.030360\n"
     ]
    }
   ],
   "source": [
    "import torch\n",
    "import torch.optim as optim\n",
    "import torch.nn as nn\n",
    "from torch.optim import lr_scheduler\n",
    "\n",
    "\n",
    "model = model.to(device)\n",
    "optimizer_ft = optim.Adam(filter(lambda p: p.requires_grad, model.parameters()), lr = 1e-5)\n",
    "\n",
    "exp_lr_scheduler = lr_scheduler.StepLR(optimizer_ft, step_size = 8, gamma = 0.1)\n",
    "model = train_model(model, optimizer_ft, exp_lr_scheduler, num_epochs = 20,device=device)"
   ]
  },
  {
   "cell_type": "markdown",
   "metadata": {},
   "source": [
    "## Create Directory For Saving the Model and Examples"
   ]
  },
  {
   "cell_type": "code",
   "execution_count": 11,
   "metadata": {},
   "outputs": [],
   "source": [
    "import os\n",
    "\n",
    "try:\n",
    "    os.makedirs('RadioWNet_c_MIMO', exist_ok=True)\n",
    "except OSError as error:\n",
    "    print(error)"
   ]
  },
  {
   "cell_type": "markdown",
   "metadata": {},
   "source": [
    "## Save First U Model For Inference"
   ]
  },
  {
   "cell_type": "code",
   "execution_count": 12,
   "metadata": {},
   "outputs": [],
   "source": [
    "torch.save(model.state_dict(), 'RadioWNet_c_MIMO/Trained_Model_FirstU.pt')"
   ]
  },
  {
   "cell_type": "markdown",
   "metadata": {},
   "source": [
    "## Second U Module"
   ]
  },
  {
   "cell_type": "code",
   "execution_count": 13,
   "metadata": {
    "scrolled": true
   },
   "outputs": [
    {
     "data": {
      "text/plain": [
       "<All keys matched successfully>"
      ]
     },
     "execution_count": 13,
     "metadata": {},
     "output_type": "execute_result"
    }
   ],
   "source": [
    "model = modules.RadioWNet(phase = \"secondU\")\n",
    "model.load_state_dict(torch.load('RadioWNet_c_MIMO/Trained_Model_FirstU.pt'))"
   ]
  },
  {
   "cell_type": "markdown",
   "metadata": {},
   "source": [
    "## Training Scond UNet"
   ]
  },
  {
   "cell_type": "code",
   "execution_count": 14,
   "metadata": {
    "editable": true,
    "scrolled": true,
    "slideshow": {
     "slide_type": ""
    },
    "tags": []
   },
   "outputs": [
    {
     "name": "stdout",
     "output_type": "stream",
     "text": [
      "Epoch 0/29\n",
      "----------\n",
      "learning rate 0.0002\n"
     ]
    },
    {
     "name": "stderr",
     "output_type": "stream",
     "text": [
      "train dense: 100%|██████████| 469/469 [12:02<00:00,  1.54s/it]"
     ]
    },
    {
     "name": "stdout",
     "output_type": "stream",
     "text": [
      "train: loss: 0.034305\n"
     ]
    },
    {
     "name": "stderr",
     "output_type": "stream",
     "text": [
      "\n",
      "val dense: 100%|██████████| 94/94 [01:27<00:00,  1.07it/s]\n"
     ]
    },
    {
     "name": "stdout",
     "output_type": "stream",
     "text": [
      "val: loss: 0.029363\n",
      "saving best model\n",
      "13m 31s\n",
      "Epoch 1/29\n",
      "----------\n",
      "learning rate 0.0002\n"
     ]
    },
    {
     "name": "stderr",
     "output_type": "stream",
     "text": [
      "train dense: 100%|██████████| 469/469 [12:03<00:00,  1.54s/it]"
     ]
    },
    {
     "name": "stdout",
     "output_type": "stream",
     "text": [
      "train: loss: 0.028836\n"
     ]
    },
    {
     "name": "stderr",
     "output_type": "stream",
     "text": [
      "\n",
      "val dense: 100%|██████████| 94/94 [01:29<00:00,  1.05it/s]\n"
     ]
    },
    {
     "name": "stdout",
     "output_type": "stream",
     "text": [
      "val: loss: 0.027949\n",
      "saving best model\n",
      "13m 33s\n",
      "Epoch 2/29\n",
      "----------\n",
      "learning rate 0.0002\n"
     ]
    },
    {
     "name": "stderr",
     "output_type": "stream",
     "text": [
      "train dense: 100%|██████████| 469/469 [12:04<00:00,  1.54s/it]"
     ]
    },
    {
     "name": "stdout",
     "output_type": "stream",
     "text": [
      "train: loss: 0.027883\n"
     ]
    },
    {
     "name": "stderr",
     "output_type": "stream",
     "text": [
      "\n",
      "val dense: 100%|██████████| 94/94 [01:28<00:00,  1.06it/s]\n"
     ]
    },
    {
     "name": "stdout",
     "output_type": "stream",
     "text": [
      "val: loss: 0.027452\n",
      "saving best model\n",
      "13m 33s\n",
      "Epoch 3/29\n",
      "----------\n",
      "learning rate 0.0002\n"
     ]
    },
    {
     "name": "stderr",
     "output_type": "stream",
     "text": [
      "train dense: 100%|██████████| 469/469 [12:04<00:00,  1.55s/it]"
     ]
    },
    {
     "name": "stdout",
     "output_type": "stream",
     "text": [
      "train: loss: 0.023646\n"
     ]
    },
    {
     "name": "stderr",
     "output_type": "stream",
     "text": [
      "\n",
      "val dense: 100%|██████████| 94/94 [01:27<00:00,  1.07it/s]\n"
     ]
    },
    {
     "name": "stdout",
     "output_type": "stream",
     "text": [
      "val: loss: 0.019676\n",
      "saving best model\n",
      "13m 33s\n",
      "Epoch 4/29\n",
      "----------\n",
      "learning rate 0.0002\n"
     ]
    },
    {
     "name": "stderr",
     "output_type": "stream",
     "text": [
      "train dense: 100%|██████████| 469/469 [12:04<00:00,  1.54s/it]"
     ]
    },
    {
     "name": "stdout",
     "output_type": "stream",
     "text": [
      "train: loss: 0.018935\n"
     ]
    },
    {
     "name": "stderr",
     "output_type": "stream",
     "text": [
      "\n",
      "val dense: 100%|██████████| 94/94 [01:28<00:00,  1.06it/s]\n"
     ]
    },
    {
     "name": "stdout",
     "output_type": "stream",
     "text": [
      "val: loss: 0.017937\n",
      "saving best model\n",
      "13m 33s\n",
      "Epoch 5/29\n",
      "----------\n",
      "learning rate 0.0002\n"
     ]
    },
    {
     "name": "stderr",
     "output_type": "stream",
     "text": [
      "train dense: 100%|██████████| 469/469 [12:21<00:00,  1.58s/it]"
     ]
    },
    {
     "name": "stdout",
     "output_type": "stream",
     "text": [
      "train: loss: 0.017664\n"
     ]
    },
    {
     "name": "stderr",
     "output_type": "stream",
     "text": [
      "\n",
      "val dense: 100%|██████████| 94/94 [01:37<00:00,  1.03s/it]\n"
     ]
    },
    {
     "name": "stdout",
     "output_type": "stream",
     "text": [
      "val: loss: 0.017119\n",
      "saving best model\n",
      "13m 59s\n",
      "Epoch 6/29\n",
      "----------\n",
      "learning rate 0.0002\n"
     ]
    },
    {
     "name": "stderr",
     "output_type": "stream",
     "text": [
      "train dense: 100%|██████████| 469/469 [12:32<00:00,  1.61s/it]\n"
     ]
    },
    {
     "name": "stdout",
     "output_type": "stream",
     "text": [
      "train: loss: 0.016858\n"
     ]
    },
    {
     "name": "stderr",
     "output_type": "stream",
     "text": [
      "val dense: 100%|██████████| 94/94 [01:35<00:00,  1.01s/it]\n"
     ]
    },
    {
     "name": "stdout",
     "output_type": "stream",
     "text": [
      "val: loss: 0.016603\n",
      "saving best model\n",
      "14m 9s\n",
      "Epoch 7/29\n",
      "----------\n",
      "learning rate 0.0002\n"
     ]
    },
    {
     "name": "stderr",
     "output_type": "stream",
     "text": [
      "train dense: 100%|██████████| 469/469 [12:13<00:00,  1.56s/it]\n"
     ]
    },
    {
     "name": "stdout",
     "output_type": "stream",
     "text": [
      "train: loss: 0.016331\n"
     ]
    },
    {
     "name": "stderr",
     "output_type": "stream",
     "text": [
      "val dense: 100%|██████████| 94/94 [02:00<00:00,  1.28s/it]\n"
     ]
    },
    {
     "name": "stdout",
     "output_type": "stream",
     "text": [
      "val: loss: 0.016231\n",
      "saving best model\n",
      "14m 14s\n",
      "Epoch 8/29\n",
      "----------\n",
      "learning rate 0.0002\n"
     ]
    },
    {
     "name": "stderr",
     "output_type": "stream",
     "text": [
      "train dense: 100%|██████████| 469/469 [12:03<00:00,  1.54s/it]"
     ]
    },
    {
     "name": "stdout",
     "output_type": "stream",
     "text": [
      "train: loss: 0.016085\n"
     ]
    },
    {
     "name": "stderr",
     "output_type": "stream",
     "text": [
      "\n",
      "val dense: 100%|██████████| 94/94 [01:25<00:00,  1.10it/s]\n"
     ]
    },
    {
     "name": "stdout",
     "output_type": "stream",
     "text": [
      "val: loss: 0.016060\n",
      "saving best model\n",
      "13m 30s\n",
      "Epoch 9/29\n",
      "----------\n",
      "learning rate 0.0002\n"
     ]
    },
    {
     "name": "stderr",
     "output_type": "stream",
     "text": [
      "train dense: 100%|██████████| 469/469 [11:55<00:00,  1.53s/it]"
     ]
    },
    {
     "name": "stdout",
     "output_type": "stream",
     "text": [
      "train: loss: 0.015747\n"
     ]
    },
    {
     "name": "stderr",
     "output_type": "stream",
     "text": [
      "\n",
      "val dense: 100%|██████████| 94/94 [01:27<00:00,  1.08it/s]\n"
     ]
    },
    {
     "name": "stdout",
     "output_type": "stream",
     "text": [
      "val: loss: 0.015835\n",
      "saving best model\n",
      "13m 23s\n",
      "Epoch 10/29\n",
      "----------\n",
      "learning rate 0.0002\n"
     ]
    },
    {
     "name": "stderr",
     "output_type": "stream",
     "text": [
      "train dense: 100%|██████████| 469/469 [11:56<00:00,  1.53s/it]"
     ]
    },
    {
     "name": "stdout",
     "output_type": "stream",
     "text": [
      "train: loss: 0.015500\n"
     ]
    },
    {
     "name": "stderr",
     "output_type": "stream",
     "text": [
      "\n",
      "val dense: 100%|██████████| 94/94 [01:26<00:00,  1.08it/s]"
     ]
    },
    {
     "name": "stdout",
     "output_type": "stream",
     "text": [
      "val: loss: 0.015828\n",
      "saving best model\n",
      "13m 24s\n",
      "Epoch 11/29\n",
      "----------\n",
      "learning rate 2e-05\n"
     ]
    },
    {
     "name": "stderr",
     "output_type": "stream",
     "text": [
      "\n",
      "train dense: 100%|██████████| 469/469 [11:57<00:00,  1.53s/it]"
     ]
    },
    {
     "name": "stdout",
     "output_type": "stream",
     "text": [
      "train: loss: 0.014994\n"
     ]
    },
    {
     "name": "stderr",
     "output_type": "stream",
     "text": [
      "\n",
      "val dense: 100%|██████████| 94/94 [01:29<00:00,  1.05it/s]\n"
     ]
    },
    {
     "name": "stdout",
     "output_type": "stream",
     "text": [
      "val: loss: 0.015343\n",
      "saving best model\n",
      "13m 28s\n",
      "Epoch 12/29\n",
      "----------\n",
      "learning rate 2e-05\n"
     ]
    },
    {
     "name": "stderr",
     "output_type": "stream",
     "text": [
      "train dense: 100%|██████████| 469/469 [12:04<00:00,  1.54s/it]"
     ]
    },
    {
     "name": "stdout",
     "output_type": "stream",
     "text": [
      "train: loss: 0.014928\n"
     ]
    },
    {
     "name": "stderr",
     "output_type": "stream",
     "text": [
      "\n",
      "val dense: 100%|██████████| 94/94 [01:27<00:00,  1.07it/s]\n"
     ]
    },
    {
     "name": "stdout",
     "output_type": "stream",
     "text": [
      "val: loss: 0.015319\n",
      "saving best model\n",
      "13m 33s\n",
      "Epoch 13/29\n",
      "----------\n",
      "learning rate 2e-05\n"
     ]
    },
    {
     "name": "stderr",
     "output_type": "stream",
     "text": [
      "train dense: 100%|██████████| 469/469 [11:57<00:00,  1.53s/it]\n"
     ]
    },
    {
     "name": "stdout",
     "output_type": "stream",
     "text": [
      "train: loss: 0.014885\n"
     ]
    },
    {
     "name": "stderr",
     "output_type": "stream",
     "text": [
      "val dense: 100%|██████████| 94/94 [01:26<00:00,  1.08it/s]\n"
     ]
    },
    {
     "name": "stdout",
     "output_type": "stream",
     "text": [
      "val: loss: 0.015309\n",
      "saving best model\n",
      "13m 25s\n",
      "Epoch 14/29\n",
      "----------\n",
      "learning rate 2e-05\n"
     ]
    },
    {
     "name": "stderr",
     "output_type": "stream",
     "text": [
      "train dense: 100%|██████████| 469/469 [11:58<00:00,  1.53s/it]"
     ]
    },
    {
     "name": "stdout",
     "output_type": "stream",
     "text": [
      "train: loss: 0.014861\n"
     ]
    },
    {
     "name": "stderr",
     "output_type": "stream",
     "text": [
      "\n",
      "val dense: 100%|██████████| 94/94 [01:27<00:00,  1.08it/s]\n"
     ]
    },
    {
     "name": "stdout",
     "output_type": "stream",
     "text": [
      "val: loss: 0.015278\n",
      "saving best model\n",
      "13m 26s\n",
      "Epoch 15/29\n",
      "----------\n",
      "learning rate 2e-05\n"
     ]
    },
    {
     "name": "stderr",
     "output_type": "stream",
     "text": [
      "train dense: 100%|██████████| 469/469 [11:56<00:00,  1.53s/it]"
     ]
    },
    {
     "name": "stdout",
     "output_type": "stream",
     "text": [
      "train: loss: 0.014823\n"
     ]
    },
    {
     "name": "stderr",
     "output_type": "stream",
     "text": [
      "\n",
      "val dense: 100%|██████████| 94/94 [01:29<00:00,  1.05it/s]\n"
     ]
    },
    {
     "name": "stdout",
     "output_type": "stream",
     "text": [
      "val: loss: 0.015281\n",
      "13m 27s\n",
      "Epoch 16/29\n",
      "----------\n",
      "learning rate 2e-05\n"
     ]
    },
    {
     "name": "stderr",
     "output_type": "stream",
     "text": [
      "train dense: 100%|██████████| 469/469 [12:03<00:00,  1.54s/it]"
     ]
    },
    {
     "name": "stdout",
     "output_type": "stream",
     "text": [
      "train: loss: 0.014789\n"
     ]
    },
    {
     "name": "stderr",
     "output_type": "stream",
     "text": [
      "\n",
      "val dense: 100%|██████████| 94/94 [01:26<00:00,  1.09it/s]\n"
     ]
    },
    {
     "name": "stdout",
     "output_type": "stream",
     "text": [
      "val: loss: 0.015264\n",
      "saving best model\n",
      "13m 31s\n",
      "Epoch 17/29\n",
      "----------\n",
      "learning rate 2e-05\n"
     ]
    },
    {
     "name": "stderr",
     "output_type": "stream",
     "text": [
      "train dense: 100%|██████████| 469/469 [11:56<00:00,  1.53s/it]\n"
     ]
    },
    {
     "name": "stdout",
     "output_type": "stream",
     "text": [
      "train: loss: 0.014756\n"
     ]
    },
    {
     "name": "stderr",
     "output_type": "stream",
     "text": [
      "val dense: 100%|██████████| 94/94 [01:26<00:00,  1.09it/s]\n"
     ]
    },
    {
     "name": "stdout",
     "output_type": "stream",
     "text": [
      "val: loss: 0.015213\n",
      "saving best model\n",
      "13m 23s\n",
      "Epoch 18/29\n",
      "----------\n",
      "learning rate 2e-05\n"
     ]
    },
    {
     "name": "stderr",
     "output_type": "stream",
     "text": [
      "train dense: 100%|██████████| 469/469 [11:56<00:00,  1.53s/it]"
     ]
    },
    {
     "name": "stdout",
     "output_type": "stream",
     "text": [
      "train: loss: 0.014730\n"
     ]
    },
    {
     "name": "stderr",
     "output_type": "stream",
     "text": [
      "\n",
      "val dense: 100%|██████████| 94/94 [01:26<00:00,  1.09it/s]"
     ]
    },
    {
     "name": "stdout",
     "output_type": "stream",
     "text": [
      "val: loss: 0.015232\n",
      "13m 23s\n",
      "Epoch 19/29\n",
      "----------\n",
      "learning rate 2e-05\n"
     ]
    },
    {
     "name": "stderr",
     "output_type": "stream",
     "text": [
      "\n",
      "train dense: 100%|██████████| 469/469 [11:59<00:00,  1.53s/it]"
     ]
    },
    {
     "name": "stdout",
     "output_type": "stream",
     "text": [
      "train: loss: 0.014700\n"
     ]
    },
    {
     "name": "stderr",
     "output_type": "stream",
     "text": [
      "\n",
      "val dense: 100%|██████████| 94/94 [01:25<00:00,  1.10it/s]\n"
     ]
    },
    {
     "name": "stdout",
     "output_type": "stream",
     "text": [
      "val: loss: 0.015207\n",
      "saving best model\n",
      "13m 26s\n",
      "Epoch 20/29\n",
      "----------\n",
      "learning rate 2e-05\n"
     ]
    },
    {
     "name": "stderr",
     "output_type": "stream",
     "text": [
      "train dense: 100%|██████████| 469/469 [11:55<00:00,  1.53s/it]"
     ]
    },
    {
     "name": "stdout",
     "output_type": "stream",
     "text": [
      "train: loss: 0.014666\n"
     ]
    },
    {
     "name": "stderr",
     "output_type": "stream",
     "text": [
      "\n",
      "val dense: 100%|██████████| 94/94 [01:25<00:00,  1.10it/s]"
     ]
    },
    {
     "name": "stdout",
     "output_type": "stream",
     "text": [
      "val: loss: 0.015195\n",
      "saving best model\n",
      "13m 21s\n",
      "Epoch 21/29\n",
      "----------\n",
      "learning rate 2e-05\n"
     ]
    },
    {
     "name": "stderr",
     "output_type": "stream",
     "text": [
      "\n",
      "train dense: 100%|██████████| 469/469 [11:56<00:00,  1.53s/it]"
     ]
    },
    {
     "name": "stdout",
     "output_type": "stream",
     "text": [
      "train: loss: 0.014637\n"
     ]
    },
    {
     "name": "stderr",
     "output_type": "stream",
     "text": [
      "\n",
      "val dense: 100%|██████████| 94/94 [01:26<00:00,  1.09it/s]\n"
     ]
    },
    {
     "name": "stdout",
     "output_type": "stream",
     "text": [
      "val: loss: 0.015218\n",
      "13m 23s\n",
      "Epoch 22/29\n",
      "----------\n",
      "learning rate 2e-05\n"
     ]
    },
    {
     "name": "stderr",
     "output_type": "stream",
     "text": [
      "train dense: 100%|██████████| 469/469 [11:55<00:00,  1.53s/it]"
     ]
    },
    {
     "name": "stdout",
     "output_type": "stream",
     "text": [
      "train: loss: 0.014613\n"
     ]
    },
    {
     "name": "stderr",
     "output_type": "stream",
     "text": [
      "\n",
      "val dense: 100%|██████████| 94/94 [01:26<00:00,  1.09it/s]\n"
     ]
    },
    {
     "name": "stdout",
     "output_type": "stream",
     "text": [
      "val: loss: 0.015126\n",
      "saving best model\n",
      "13m 22s\n",
      "Epoch 23/29\n",
      "----------\n",
      "learning rate 2.0000000000000003e-06\n"
     ]
    },
    {
     "name": "stderr",
     "output_type": "stream",
     "text": [
      "train dense: 100%|██████████| 469/469 [11:55<00:00,  1.53s/it]"
     ]
    },
    {
     "name": "stdout",
     "output_type": "stream",
     "text": [
      "train: loss: 0.014531\n"
     ]
    },
    {
     "name": "stderr",
     "output_type": "stream",
     "text": [
      "\n",
      "val dense: 100%|██████████| 94/94 [01:26<00:00,  1.09it/s]\n"
     ]
    },
    {
     "name": "stdout",
     "output_type": "stream",
     "text": [
      "val: loss: 0.015102\n",
      "saving best model\n",
      "13m 23s\n",
      "Epoch 24/29\n",
      "----------\n",
      "learning rate 2.0000000000000003e-06\n"
     ]
    },
    {
     "name": "stderr",
     "output_type": "stream",
     "text": [
      "train dense: 100%|██████████| 469/469 [11:56<00:00,  1.53s/it]\n"
     ]
    },
    {
     "name": "stdout",
     "output_type": "stream",
     "text": [
      "train: loss: 0.014525\n"
     ]
    },
    {
     "name": "stderr",
     "output_type": "stream",
     "text": [
      "val dense: 100%|██████████| 94/94 [01:26<00:00,  1.08it/s]\n"
     ]
    },
    {
     "name": "stdout",
     "output_type": "stream",
     "text": [
      "val: loss: 0.015090\n",
      "saving best model\n",
      "13m 24s\n",
      "Epoch 25/29\n",
      "----------\n",
      "learning rate 2.0000000000000003e-06\n"
     ]
    },
    {
     "name": "stderr",
     "output_type": "stream",
     "text": [
      "train dense: 100%|██████████| 469/469 [11:54<00:00,  1.52s/it]"
     ]
    },
    {
     "name": "stdout",
     "output_type": "stream",
     "text": [
      "train: loss: 0.014521\n"
     ]
    },
    {
     "name": "stderr",
     "output_type": "stream",
     "text": [
      "\n",
      "val dense: 100%|██████████| 94/94 [01:25<00:00,  1.10it/s]"
     ]
    },
    {
     "name": "stdout",
     "output_type": "stream",
     "text": [
      "val: loss: 0.015090\n",
      "13m 21s\n",
      "Epoch 26/29\n",
      "----------\n",
      "learning rate 2.0000000000000003e-06\n"
     ]
    },
    {
     "name": "stderr",
     "output_type": "stream",
     "text": [
      "\n",
      "train dense: 100%|██████████| 469/469 [11:56<00:00,  1.53s/it]"
     ]
    },
    {
     "name": "stdout",
     "output_type": "stream",
     "text": [
      "train: loss: 0.014516\n"
     ]
    },
    {
     "name": "stderr",
     "output_type": "stream",
     "text": [
      "\n",
      "val dense: 100%|██████████| 94/94 [01:25<00:00,  1.10it/s]"
     ]
    },
    {
     "name": "stdout",
     "output_type": "stream",
     "text": [
      "val: loss: 0.015089\n",
      "saving best model\n",
      "13m 22s\n",
      "Epoch 27/29\n",
      "----------\n",
      "learning rate 2.0000000000000003e-06\n"
     ]
    },
    {
     "name": "stderr",
     "output_type": "stream",
     "text": [
      "\n",
      "train dense: 100%|██████████| 469/469 [11:55<00:00,  1.53s/it]"
     ]
    },
    {
     "name": "stdout",
     "output_type": "stream",
     "text": [
      "train: loss: 0.014514\n"
     ]
    },
    {
     "name": "stderr",
     "output_type": "stream",
     "text": [
      "\n",
      "val dense: 100%|██████████| 94/94 [01:25<00:00,  1.09it/s]\n"
     ]
    },
    {
     "name": "stdout",
     "output_type": "stream",
     "text": [
      "val: loss: 0.015092\n",
      "13m 22s\n",
      "Epoch 28/29\n",
      "----------\n",
      "learning rate 2.0000000000000003e-06\n"
     ]
    },
    {
     "name": "stderr",
     "output_type": "stream",
     "text": [
      "train dense: 100%|██████████| 469/469 [11:55<00:00,  1.52s/it]"
     ]
    },
    {
     "name": "stdout",
     "output_type": "stream",
     "text": [
      "train: loss: 0.014512\n"
     ]
    },
    {
     "name": "stderr",
     "output_type": "stream",
     "text": [
      "\n",
      "val dense: 100%|██████████| 94/94 [01:26<00:00,  1.09it/s]\n"
     ]
    },
    {
     "name": "stdout",
     "output_type": "stream",
     "text": [
      "val: loss: 0.015084\n",
      "saving best model\n",
      "13m 22s\n",
      "Epoch 29/29\n",
      "----------\n",
      "learning rate 2.0000000000000003e-06\n"
     ]
    },
    {
     "name": "stderr",
     "output_type": "stream",
     "text": [
      "train dense: 100%|██████████| 469/469 [11:54<00:00,  1.52s/it]"
     ]
    },
    {
     "name": "stdout",
     "output_type": "stream",
     "text": [
      "train: loss: 0.014507\n"
     ]
    },
    {
     "name": "stderr",
     "output_type": "stream",
     "text": [
      "\n",
      "val dense: 100%|██████████| 94/94 [01:27<00:00,  1.07it/s]\n"
     ]
    },
    {
     "name": "stdout",
     "output_type": "stream",
     "text": [
      "val: loss: 0.015092\n",
      "13m 22s\n",
      "Best val loss: 0.015084\n"
     ]
    }
   ],
   "source": [
    "import torch\n",
    "import torch.optim as optim\n",
    "from torch.optim import lr_scheduler\n",
    "\n",
    "model = model.to(device)\n",
    "optimizer_ft = optim.Adam(filter(lambda p: p.requires_grad, model.parameters()), lr = 2e-4)\n",
    "\n",
    "exp_lr_scheduler = lr_scheduler.StepLR(optimizer_ft, step_size = 12, gamma = 0.1)\n",
    "\n",
    "model = train_model(model, optimizer_ft, exp_lr_scheduler,num_epochs=30, WNetPhase = \"secondU\",device = device)"
   ]
  },
  {
   "cell_type": "markdown",
   "metadata": {},
   "source": [
    "## Save Second U Model For Inference"
   ]
  },
  {
   "cell_type": "code",
   "execution_count": 15,
   "metadata": {},
   "outputs": [],
   "source": [
    "torch.save(model.state_dict(), 'RadioWNet_c_MIMO/Trained_Model_SecondU.pt')"
   ]
  },
  {
   "cell_type": "markdown",
   "metadata": {},
   "source": [
    "## Load Second U Model For Inference"
   ]
  },
  {
   "cell_type": "code",
   "execution_count": 16,
   "metadata": {
    "ExecuteTime": {
     "end_time": "2025-04-27T08:07:54.885809Z",
     "start_time": "2025-04-27T08:07:54.633268Z"
    },
    "scrolled": true
   },
   "outputs": [
    {
     "data": {
      "text/plain": [
       "RadioWNet(\n",
       "  (layer00): Sequential(\n",
       "    (0): Conv2d(4, 10, kernel_size=(3, 3), stride=(1, 1), padding=(1, 1))\n",
       "    (1): ReLU(inplace=True)\n",
       "    (2): MaxPool2d(kernel_size=1, stride=1, padding=0, dilation=1, ceil_mode=False)\n",
       "  )\n",
       "  (layer0): Sequential(\n",
       "    (0): Conv2d(10, 40, kernel_size=(5, 5), stride=(1, 1), padding=(2, 2))\n",
       "    (1): ReLU(inplace=True)\n",
       "    (2): MaxPool2d(kernel_size=2, stride=2, padding=0, dilation=1, ceil_mode=False)\n",
       "  )\n",
       "  (layer1): Sequential(\n",
       "    (0): Conv2d(40, 50, kernel_size=(5, 5), stride=(1, 1), padding=(2, 2))\n",
       "    (1): ReLU(inplace=True)\n",
       "    (2): MaxPool2d(kernel_size=2, stride=2, padding=0, dilation=1, ceil_mode=False)\n",
       "  )\n",
       "  (layer10): Sequential(\n",
       "    (0): Conv2d(50, 60, kernel_size=(5, 5), stride=(1, 1), padding=(2, 2))\n",
       "    (1): ReLU(inplace=True)\n",
       "    (2): MaxPool2d(kernel_size=1, stride=1, padding=0, dilation=1, ceil_mode=False)\n",
       "  )\n",
       "  (layer2): Sequential(\n",
       "    (0): Conv2d(60, 100, kernel_size=(5, 5), stride=(1, 1), padding=(2, 2))\n",
       "    (1): ReLU(inplace=True)\n",
       "    (2): MaxPool2d(kernel_size=2, stride=2, padding=0, dilation=1, ceil_mode=False)\n",
       "  )\n",
       "  (layer20): Sequential(\n",
       "    (0): Conv2d(100, 100, kernel_size=(3, 3), stride=(1, 1), padding=(1, 1))\n",
       "    (1): ReLU(inplace=True)\n",
       "    (2): MaxPool2d(kernel_size=1, stride=1, padding=0, dilation=1, ceil_mode=False)\n",
       "  )\n",
       "  (layer3): Sequential(\n",
       "    (0): Conv2d(100, 150, kernel_size=(5, 5), stride=(1, 1), padding=(2, 2))\n",
       "    (1): ReLU(inplace=True)\n",
       "    (2): MaxPool2d(kernel_size=2, stride=2, padding=0, dilation=1, ceil_mode=False)\n",
       "  )\n",
       "  (layer4): Sequential(\n",
       "    (0): Conv2d(150, 300, kernel_size=(5, 5), stride=(1, 1), padding=(2, 2))\n",
       "    (1): ReLU(inplace=True)\n",
       "    (2): MaxPool2d(kernel_size=2, stride=2, padding=0, dilation=1, ceil_mode=False)\n",
       "  )\n",
       "  (layer5): Sequential(\n",
       "    (0): Conv2d(300, 500, kernel_size=(5, 5), stride=(1, 1), padding=(2, 2))\n",
       "    (1): ReLU(inplace=True)\n",
       "    (2): MaxPool2d(kernel_size=2, stride=2, padding=0, dilation=1, ceil_mode=False)\n",
       "  )\n",
       "  (conv_up5): Sequential(\n",
       "    (0): ConvTranspose2d(500, 300, kernel_size=(4, 4), stride=(2, 2), padding=(1, 1))\n",
       "    (1): ReLU(inplace=True)\n",
       "  )\n",
       "  (conv_up4): Sequential(\n",
       "    (0): ConvTranspose2d(600, 150, kernel_size=(4, 4), stride=(2, 2), padding=(1, 1))\n",
       "    (1): ReLU(inplace=True)\n",
       "  )\n",
       "  (conv_up3): Sequential(\n",
       "    (0): ConvTranspose2d(300, 100, kernel_size=(4, 4), stride=(2, 2), padding=(1, 1))\n",
       "    (1): ReLU(inplace=True)\n",
       "  )\n",
       "  (conv_up20): Sequential(\n",
       "    (0): Conv2d(200, 100, kernel_size=(3, 3), stride=(1, 1), padding=(1, 1))\n",
       "    (1): ReLU(inplace=True)\n",
       "    (2): MaxPool2d(kernel_size=1, stride=1, padding=0, dilation=1, ceil_mode=False)\n",
       "  )\n",
       "  (conv_up2): Sequential(\n",
       "    (0): ConvTranspose2d(200, 60, kernel_size=(6, 6), stride=(2, 2), padding=(2, 2))\n",
       "    (1): ReLU(inplace=True)\n",
       "  )\n",
       "  (conv_up10): Sequential(\n",
       "    (0): Conv2d(120, 50, kernel_size=(5, 5), stride=(1, 1), padding=(2, 2))\n",
       "    (1): ReLU(inplace=True)\n",
       "    (2): MaxPool2d(kernel_size=1, stride=1, padding=0, dilation=1, ceil_mode=False)\n",
       "  )\n",
       "  (conv_up1): Sequential(\n",
       "    (0): ConvTranspose2d(100, 40, kernel_size=(6, 6), stride=(2, 2), padding=(2, 2))\n",
       "    (1): ReLU(inplace=True)\n",
       "  )\n",
       "  (conv_up0): Sequential(\n",
       "    (0): ConvTranspose2d(80, 20, kernel_size=(6, 6), stride=(2, 2), padding=(2, 2))\n",
       "    (1): ReLU(inplace=True)\n",
       "  )\n",
       "  (conv_up00): Sequential(\n",
       "    (0): Conv2d(34, 20, kernel_size=(5, 5), stride=(1, 1), padding=(2, 2))\n",
       "    (1): ReLU(inplace=True)\n",
       "    (2): MaxPool2d(kernel_size=1, stride=1, padding=0, dilation=1, ceil_mode=False)\n",
       "  )\n",
       "  (conv_up000): Sequential(\n",
       "    (0): Conv2d(24, 1, kernel_size=(5, 5), stride=(1, 1), padding=(2, 2))\n",
       "    (1): ReLU(inplace=True)\n",
       "    (2): MaxPool2d(kernel_size=1, stride=1, padding=0, dilation=1, ceil_mode=False)\n",
       "  )\n",
       "  (Wlayer00): Sequential(\n",
       "    (0): Conv2d(5, 20, kernel_size=(3, 3), stride=(1, 1), padding=(1, 1))\n",
       "    (1): ReLU(inplace=True)\n",
       "    (2): MaxPool2d(kernel_size=1, stride=1, padding=0, dilation=1, ceil_mode=False)\n",
       "  )\n",
       "  (Wlayer0): Sequential(\n",
       "    (0): Conv2d(20, 30, kernel_size=(5, 5), stride=(1, 1), padding=(2, 2))\n",
       "    (1): ReLU(inplace=True)\n",
       "    (2): MaxPool2d(kernel_size=2, stride=2, padding=0, dilation=1, ceil_mode=False)\n",
       "  )\n",
       "  (Wlayer1): Sequential(\n",
       "    (0): Conv2d(30, 40, kernel_size=(5, 5), stride=(1, 1), padding=(2, 2))\n",
       "    (1): ReLU(inplace=True)\n",
       "    (2): MaxPool2d(kernel_size=2, stride=2, padding=0, dilation=1, ceil_mode=False)\n",
       "  )\n",
       "  (Wlayer10): Sequential(\n",
       "    (0): Conv2d(40, 50, kernel_size=(5, 5), stride=(1, 1), padding=(2, 2))\n",
       "    (1): ReLU(inplace=True)\n",
       "    (2): MaxPool2d(kernel_size=1, stride=1, padding=0, dilation=1, ceil_mode=False)\n",
       "  )\n",
       "  (Wlayer2): Sequential(\n",
       "    (0): Conv2d(50, 60, kernel_size=(5, 5), stride=(1, 1), padding=(2, 2))\n",
       "    (1): ReLU(inplace=True)\n",
       "    (2): MaxPool2d(kernel_size=2, stride=2, padding=0, dilation=1, ceil_mode=False)\n",
       "  )\n",
       "  (Wlayer20): Sequential(\n",
       "    (0): Conv2d(60, 70, kernel_size=(3, 3), stride=(1, 1), padding=(1, 1))\n",
       "    (1): ReLU(inplace=True)\n",
       "    (2): MaxPool2d(kernel_size=1, stride=1, padding=0, dilation=1, ceil_mode=False)\n",
       "  )\n",
       "  (Wlayer3): Sequential(\n",
       "    (0): Conv2d(70, 90, kernel_size=(5, 5), stride=(1, 1), padding=(2, 2))\n",
       "    (1): ReLU(inplace=True)\n",
       "    (2): MaxPool2d(kernel_size=2, stride=2, padding=0, dilation=1, ceil_mode=False)\n",
       "  )\n",
       "  (Wlayer4): Sequential(\n",
       "    (0): Conv2d(90, 110, kernel_size=(5, 5), stride=(1, 1), padding=(2, 2))\n",
       "    (1): ReLU(inplace=True)\n",
       "    (2): MaxPool2d(kernel_size=2, stride=2, padding=0, dilation=1, ceil_mode=False)\n",
       "  )\n",
       "  (Wlayer5): Sequential(\n",
       "    (0): Conv2d(110, 150, kernel_size=(5, 5), stride=(1, 1), padding=(2, 2))\n",
       "    (1): ReLU(inplace=True)\n",
       "    (2): MaxPool2d(kernel_size=2, stride=2, padding=0, dilation=1, ceil_mode=False)\n",
       "  )\n",
       "  (Wconv_up5): Sequential(\n",
       "    (0): ConvTranspose2d(150, 110, kernel_size=(4, 4), stride=(2, 2), padding=(1, 1))\n",
       "    (1): ReLU(inplace=True)\n",
       "  )\n",
       "  (Wconv_up4): Sequential(\n",
       "    (0): ConvTranspose2d(220, 90, kernel_size=(4, 4), stride=(2, 2), padding=(1, 1))\n",
       "    (1): ReLU(inplace=True)\n",
       "  )\n",
       "  (Wconv_up3): Sequential(\n",
       "    (0): ConvTranspose2d(180, 70, kernel_size=(4, 4), stride=(2, 2), padding=(1, 1))\n",
       "    (1): ReLU(inplace=True)\n",
       "  )\n",
       "  (Wconv_up20): Sequential(\n",
       "    (0): Conv2d(140, 60, kernel_size=(3, 3), stride=(1, 1), padding=(1, 1))\n",
       "    (1): ReLU(inplace=True)\n",
       "    (2): MaxPool2d(kernel_size=1, stride=1, padding=0, dilation=1, ceil_mode=False)\n",
       "  )\n",
       "  (Wconv_up2): Sequential(\n",
       "    (0): ConvTranspose2d(120, 50, kernel_size=(6, 6), stride=(2, 2), padding=(2, 2))\n",
       "    (1): ReLU(inplace=True)\n",
       "  )\n",
       "  (Wconv_up10): Sequential(\n",
       "    (0): Conv2d(100, 40, kernel_size=(5, 5), stride=(1, 1), padding=(2, 2))\n",
       "    (1): ReLU(inplace=True)\n",
       "    (2): MaxPool2d(kernel_size=1, stride=1, padding=0, dilation=1, ceil_mode=False)\n",
       "  )\n",
       "  (Wconv_up1): Sequential(\n",
       "    (0): ConvTranspose2d(80, 30, kernel_size=(6, 6), stride=(2, 2), padding=(2, 2))\n",
       "    (1): ReLU(inplace=True)\n",
       "  )\n",
       "  (Wconv_up0): Sequential(\n",
       "    (0): ConvTranspose2d(60, 20, kernel_size=(6, 6), stride=(2, 2), padding=(2, 2))\n",
       "    (1): ReLU(inplace=True)\n",
       "  )\n",
       "  (Wconv_up00): Sequential(\n",
       "    (0): Conv2d(45, 20, kernel_size=(5, 5), stride=(1, 1), padding=(2, 2))\n",
       "    (1): ReLU(inplace=True)\n",
       "    (2): MaxPool2d(kernel_size=1, stride=1, padding=0, dilation=1, ceil_mode=False)\n",
       "  )\n",
       "  (Wconv_up000): Sequential(\n",
       "    (0): Conv2d(25, 1, kernel_size=(5, 5), stride=(1, 1), padding=(2, 2))\n",
       "    (1): ReLU(inplace=True)\n",
       "    (2): MaxPool2d(kernel_size=1, stride=1, padding=0, dilation=1, ceil_mode=False)\n",
       "  )\n",
       ")"
      ]
     },
     "execution_count": 16,
     "metadata": {},
     "output_type": "execute_result"
    }
   ],
   "source": [
    "model = modules.RadioWNet(phase = \"secondU\")\n",
    "model.load_state_dict(torch.load('RadioWNet_c_MIMO/Trained_Model_SecondU.pt'))\n",
    "model.to(device)"
   ]
  },
  {
   "cell_type": "markdown",
   "metadata": {},
   "source": [
    "## Test Accuracy"
   ]
  },
  {
   "cell_type": "code",
   "execution_count": 17,
   "metadata": {
    "ExecuteTime": {
     "end_time": "2025-04-27T08:08:38.126879Z",
     "start_time": "2025-04-27T08:08:38.105108Z"
    }
   },
   "outputs": [],
   "source": [
    "\n",
    "from collections import defaultdict\n",
    "import torch.nn as nn\n",
    "import torchmetrics\n",
    "\n",
    "def test_loss_full(model, error=\"MSE\", dataset=\"coarse\", data_range=1.0):\n",
    "    \"\"\"\n",
    "    Tests the model and calculates a specific metric (MSE, NMSE, RMSE, SSIM, PSNR).\n",
    "\n",
    "    Args:\n",
    "        model: The PyTorch model to test.\n",
    "        error (str): The metric to calculate (\"MSE\", \"NMSE\", \"RMSE\", \"SSIM\", \"PSNR\").\n",
    "        dataset (str): Specifies the dataset loader (\"coarse\" or \"fine\").\n",
    "        data_range (float): The maximum possible value in the target/output tensors.\n",
    "                            Required for SSIM and PSNR calculation.\n",
    "                            例如，如果你的像素值在 0-1 之间，设置为 1.0；如果在 0-255 之间，设置为 255.0。\n",
    "    \"\"\"\n",
    "    since = time.time()\n",
    "    model.eval()  # Set model to evaluate mode\n",
    "\n",
    "    # Initialize torchmetrics objects based on the requested error\n",
    "    # We need separate instances for pred1 and pred2\n",
    "    metric1 = None\n",
    "    metric2 = None\n",
    "    mse_target_metric = None # Needed specifically for NMSE denominator (MSE(target, 0))\n",
    "\n",
    "    if error == \"MSE\":\n",
    "        metric1 = torchmetrics.regression.MeanSquaredError().to(device)\n",
    "        metric2 = torchmetrics.regression.MeanSquaredError().to(device)\n",
    "        metric_name = \"MSE\"\n",
    "    elif error == \"RMSE\":\n",
    "        # RMSE is the square root of MSE\n",
    "        metric1 = torchmetrics.regression.MeanSquaredError(squared=False).to(device)\n",
    "        metric2 = torchmetrics.regression.MeanSquaredError(squared=False).to(device)\n",
    "        metric_name = \"RMSE\"\n",
    "    elif error == \"NMSE\":\n",
    "        # NMSE = MSE(pred, target) / MSE(target, 0)\n",
    "        # We need MSE for both pred1/pred2 vs target, and MSE for target vs 0\n",
    "        metric1 = torchmetrics.regression.MeanSquaredError().to(device) # This will calculate MSE(pred1, target)\n",
    "        metric2 = torchmetrics.regression.MeanSquaredError().to(device) # This will calculate MSE(pred2, target)\n",
    "        mse_target_metric = torchmetrics.regression.MeanSquaredError().to(device) # This will calculate MSE(target, 0)\n",
    "        metric_name = \"NMSE\"\n",
    "    elif error == \"SSIM\":\n",
    "        # SSIM requires image-like data (N, C, H, W) or (N, H, W)\n",
    "        # Make sure your tensors have the correct shape for SSIM\n",
    "        metric1 = torchmetrics.image.StructuralSimilarityIndexMeasure(data_range=data_range).to(device)\n",
    "        metric2 = torchmetrics.image.StructuralSimilarityIndexMeasure(data_range=data_range).to(device)\n",
    "        metric_name = \"SSIM\"\n",
    "    elif error == \"PSNR\":\n",
    "        # PSNR requires image-like data (N, C, H, W) or (N, H, W)\n",
    "        # Make sure your tensors have the correct shape for PSNR\n",
    "        metric1 = torchmetrics.image.PeakSignalNoiseRatio(data_range=data_range).to(device)\n",
    "        metric2 = torchmetrics.image.PeakSignalNoiseRatio(data_range=data_range).to(device)\n",
    "        metric_name = \"PSNR\"\n",
    "    else:\n",
    "        raise ValueError(f\"Unknown error type: {error}. Supported types: MSE, RMSE, NMSE, SSIM, PSNR\")\n",
    "\n",
    "    epoch_samples = 0 # Keep track of total samples processed\n",
    "\n",
    "    # Select DataLoader based on dataset type\n",
    "    if dataset == \"coarse\":\n",
    "        # Assuming Radio_test is your coarse dataset class/instance\n",
    "        dl_test = DataLoader(Radio_test, batch_size=batch_size, shuffle=False, num_workers=1) # Use shuffle=False for consistent evaluation\n",
    "    elif dataset == \"fine\":\n",
    "        # Assuming Radio_test is also used for fine dataset, but might yield different data (e.g., samples_info)\n",
    "        # If your fine dataset class is different, replace Radio_test with it here\n",
    "        dl_test = DataLoader(Radio_test, batch_size=batch_size, shuffle=False, num_workers=1)\n",
    "    else:\n",
    "         raise ValueError(f\"Unknown dataset type: {dataset}\")\n",
    "\n",
    "\n",
    "    # Loop through data\n",
    "    desc = f\"Testing ({dataset.capitalize()} - {error})\"\n",
    "    for batch_idx, batch_data in tqdm(enumerate(dl_test), total=len(dl_test), desc=desc):\n",
    "        # Handle different dataset outputs based on your DataLoader's __getitem__\n",
    "        if dataset == \"coarse\":\n",
    "             inputs, targets, gain_name_for_check = batch_data\n",
    "        elif dataset == \"fine\":\n",
    "             # Assuming your fine dataset yields inputs, targets, and samples_info\n",
    "             # Adjust this line if your fine dataset yields something else\n",
    "             inputs, targets, samples_info = batch_data\n",
    "\n",
    "        inputs = inputs.to(device)\n",
    "        targets = targets.to(device)\n",
    "\n",
    "        # Ensure targets and outputs are float tensors for metrics\n",
    "        # torchmetrics typically expects float tensors\n",
    "        targets = targets.float()\n",
    "        # Note: Model outputs should ideally already be float\n",
    "\n",
    "        with torch.no_grad(): # Use torch.no_grad() for evaluation\n",
    "            [outputs1, outputs2] = model(inputs)\n",
    "\n",
    "            # Ensure outputs match target dtype for metrics\n",
    "            outputs1 = outputs1.float()\n",
    "            outputs2 = outputs2.float()\n",
    "\n",
    "            # Update the relevant metrics with the current batch\n",
    "            # torchmetrics accumulates the necessary statistics internally\n",
    "            if metric1 is not None:\n",
    "                metric1.update(outputs1, targets)\n",
    "            if metric2 is not None:\n",
    "                metric2.update(outputs2, targets)\n",
    "            if mse_target_metric is not None:\n",
    "                # Update the metric for the NMSE denominator: MSE(target, 0)\n",
    "                mse_target_metric.update(targets, torch.zeros_like(targets))\n",
    "\n",
    "        epoch_samples += inputs.size(0)\n",
    "\n",
    "    # Compute the final metric values after the loop\n",
    "    metrics = defaultdict(float)\n",
    "\n",
    "    if error == \"NMSE\":\n",
    "        # For NMSE, we first compute the accumulated MSEs\n",
    "        mse1_val = metric1.compute().item()\n",
    "        mse2_val = metric2.compute().item()\n",
    "        mse_target_val = mse_target_metric.compute().item()\n",
    "\n",
    "        # Then calculate NMSE using the computed MSEs\n",
    "        if mse_target_val > 1e-8: # Avoid division by zero if target is all zeros\n",
    "             metrics[f'{metric_name} first U'] = mse1_val / mse_target_val\n",
    "             metrics[f'{metric_name} second U'] = mse2_val / mse_target_val\n",
    "        else:\n",
    "             # Handle case where target is effectively zero everywhere\n",
    "             metrics[f'{metric_name} first U'] = float('inf') # Or NaN, or a very large number\n",
    "             metrics[f'{metric_name} second U'] = float('inf')\n",
    "\n",
    "    else: # For MSE, RMSE, SSIM, PSNR, the metric object directly computes the final value\n",
    "        if metric1 is not None:\n",
    "            metrics[f'{metric_name} first U'] = metric1.compute().item()\n",
    "        if metric2 is not None:\n",
    "            metrics[f'{metric_name} second U'] = metric2.compute().item()\n",
    "\n",
    "\n",
    "    # Reset metrics for the next test run (optional but good practice)\n",
    "    # This clears the accumulated state within the metric objects\n",
    "    if metric1 is not None: metric1.reset()\n",
    "    if metric2 is not None: metric2.reset()\n",
    "    if mse_target_metric is not None: mse_target_metric.reset()\n",
    "\n",
    "\n",
    "    # Call the print function you already have\n",
    "    # Pass the metrics dictionary containing the computed final values\n",
    "    print_metrics_test(metrics, epoch_samples, f\"{dataset.capitalize()} Dataset - {error}\")\n",
    "\n",
    "    time_elapsed = time.time() - since\n",
    "    print('Test complete in {:.0f}m {:.0f}s'.format(time_elapsed // 60, time_elapsed % 60))\n",
    "\n",
    "    return metrics # Return the dictionary containing the calculated metrics\n",
    "\n",
    "\n",
    "def print_metrics_test(metrics, epoch_samples, error):\n",
    "    \"\"\"\n",
    "    Prints the calculated test metrics.\n",
    "\n",
    "    Args:\n",
    "        metrics (dict): A dictionary containing the final computed metric values.\n",
    "                        These values are already aggregated over the dataset.\n",
    "        epoch_samples (int): The total number of samples processed (for info, not calculation).\n",
    "        error (str): A description of the test run (e.g., \"MSE\", \"NMSE\").\n",
    "    \"\"\"\n",
    "    outputs = []\n",
    "    for k in metrics.keys():\n",
    "        # Directly use the value from metrics[k] as it's already the final computed metric\n",
    "        outputs.append(\"{}: {:.6f}\".format(k, metrics[k])) # 使用 .6f 精度更高一些\n",
    "\n",
    "    # 可以选择在打印信息中包含总样本数\n",
    "    print(f\"Test {error} ({epoch_samples} samples): {', '.join(outputs)}\")\n",
    "\n",
    "# 示例调用 (与之前 test_loss 函数配合使用)\n",
    "# print_metrics_test(metrics_dict_from_test_loss, total_samples, \"MSE\")\n",
    "\n"
   ]
  },
  {
   "cell_type": "markdown",
   "metadata": {},
   "source": [
    "### MSE Accuracy on DPM"
   ]
  },
  {
   "cell_type": "code",
   "execution_count": 18,
   "metadata": {
    "ExecuteTime": {
     "end_time": "2025-04-27T08:08:46.811177Z",
     "start_time": "2025-04-27T08:08:46.566710Z"
    }
   },
   "outputs": [
    {
     "name": "stderr",
     "output_type": "stream",
     "text": [
      "Testing (Coarse - NMSE): 100%|██████████| 94/94 [02:20<00:00,  1.50s/it]\n"
     ]
    },
    {
     "name": "stdout",
     "output_type": "stream",
     "text": [
      "Test Coarse Dataset - NMSE (6000 samples): NMSE first U: 0.160430, NMSE second U: 0.079252\n",
      "Test complete in 2m 21s\n"
     ]
    }
   ],
   "source": [
    "metrix_nmse = test_loss_full(model, error = \"NMSE\")"
   ]
  },
  {
   "cell_type": "code",
   "execution_count": 19,
   "metadata": {},
   "outputs": [
    {
     "name": "stderr",
     "output_type": "stream",
     "text": [
      "Testing (Coarse - RMSE): 100%|██████████| 94/94 [01:40<00:00,  1.07s/it]\n"
     ]
    },
    {
     "name": "stdout",
     "output_type": "stream",
     "text": [
      "Test Coarse Dataset - RMSE (6000 samples): RMSE first U: 0.174297, RMSE second U: 0.122505\n",
      "Test complete in 1m 41s\n"
     ]
    }
   ],
   "source": [
    "metrix_rmse = test_loss_full(model, error = \"RMSE\")"
   ]
  },
  {
   "cell_type": "code",
   "execution_count": 20,
   "metadata": {},
   "outputs": [
    {
     "name": "stderr",
     "output_type": "stream",
     "text": [
      "Testing (Coarse - SSIM): 100%|██████████| 94/94 [01:44<00:00,  1.11s/it]\n"
     ]
    },
    {
     "name": "stdout",
     "output_type": "stream",
     "text": [
      "Test Coarse Dataset - SSIM (6000 samples): SSIM first U: 0.675458, SSIM second U: 0.798851\n",
      "Test complete in 1m 45s\n"
     ]
    }
   ],
   "source": [
    "metrix_ssim = test_loss_full(model, error = \"SSIM\")"
   ]
  },
  {
   "cell_type": "code",
   "execution_count": 21,
   "metadata": {},
   "outputs": [
    {
     "name": "stderr",
     "output_type": "stream",
     "text": [
      "Testing (Coarse - PSNR): 100%|██████████| 94/94 [01:46<00:00,  1.14s/it]\n"
     ]
    },
    {
     "name": "stdout",
     "output_type": "stream",
     "text": [
      "Test Coarse Dataset - PSNR (6000 samples): PSNR first U: 15.174200, PSNR second U: 18.236954\n",
      "Test complete in 1m 47s\n"
     ]
    }
   ],
   "source": [
    "metrix_psnr = test_loss_full(model, error = \"PSNR\")"
   ]
  },
  {
   "cell_type": "code",
   "execution_count": 23,
   "metadata": {},
   "outputs": [
    {
     "name": "stdout",
     "output_type": "stream",
     "text": [
      "import finished!\n",
      "30000 6000 6000\n",
      "469 94\n",
      "保存验证图片的文件夹: 'dataset_verification_samples/'\n",
      "\n",
      "--- 正在处理 train 集 ---\n",
      "已保存: dataset_verification_samples/train_157_0_0.png\n",
      "已保存: dataset_verification_samples/train_157_0_60.png\n",
      "已保存: dataset_verification_samples/train_157_0_120.png\n",
      "已保存: dataset_verification_samples/train_157_1_0.png\n",
      "已保存: dataset_verification_samples/train_157_1_60.png\n",
      "\n",
      "--- 正在处理 val 集 ---\n",
      "已保存: dataset_verification_samples/val_213_0_0.png\n",
      "已保存: dataset_verification_samples/val_213_0_60.png\n",
      "已保存: dataset_verification_samples/val_213_0_120.png\n",
      "已保存: dataset_verification_samples/val_213_1_0.png\n",
      "已保存: dataset_verification_samples/val_213_1_60.png\n",
      "\n",
      "--- 正在处理 test 集 ---\n",
      "已保存: dataset_verification_samples/test_34_0_0.png\n",
      "已保存: dataset_verification_samples/test_34_0_60.png\n",
      "已保存: dataset_verification_samples/test_34_0_120.png\n",
      "已保存: dataset_verification_samples/test_34_1_0.png\n",
      "已保存: dataset_verification_samples/test_34_1_60.png\n"
     ]
    }
   ],
   "source": [
    "%reset -f\n",
    "import warnings\n",
    "from collections import defaultdict\n",
    "\n",
    "warnings.filterwarnings(\"ignore\")\n",
    "import os\n",
    "import numpy as np\n",
    "import matplotlib.pyplot as plt\n",
    "\n",
    "from lib import loaders_mimo, modules\n",
    "from torchsummary import summary\n",
    "import torch\n",
    "import torch.optim as optim\n",
    "from torch.optim import lr_scheduler\n",
    "from torch.utils.data import DataLoader\n",
    "import torch.nn as nn\n",
    "from tqdm import tqdm\n",
    "\n",
    "import copy\n",
    "import time\n",
    "print('import finished!')\n",
    "device = torch.device(\"cuda:2\" if torch.cuda.is_available() else \"cpu\")\n",
    "\n",
    "dir_dataset1 = r'/mnt/mydisk/hgjia/data/UrbanMIMOMap'\n",
    "Radio_train = loaders_mimo.RadioUNet_c_mimo(phase=\"train\", dir_dataset=dir_dataset1)\n",
    "Radio_val = loaders_mimo.RadioUNet_c_mimo(phase=\"val\",dir_dataset=dir_dataset1)\n",
    "Radio_test = loaders_mimo.RadioUNet_c_mimo(phase=\"test\",dir_dataset=dir_dataset1)\n",
    "print(len(Radio_train), len(Radio_val), len(Radio_test))\n",
    "\n",
    "\n",
    "batch_size = 64\n",
    "dataloaders = {\n",
    "    'train': DataLoader(Radio_train, batch_size = batch_size, shuffle = True, num_workers = 2),\n",
    "    'val': DataLoader(Radio_val, batch_size = batch_size, shuffle = True, num_workers = 2)\n",
    "}\n",
    "print(len(dataloaders['train']), len(dataloaders['val']))\n",
    "\n",
    "# ==================================================================\n",
    "# ===== 新增的验证代码从这里开始 =====\n",
    "# ==================================================================\n",
    "\n",
    "# 1. 创建一个新的文件夹用于保存测试结果\n",
    "output_dir = 'dataset_verification_samples'\n",
    "os.makedirs(output_dir, exist_ok=True)\n",
    "print(f\"保存验证图片的文件夹: '{output_dir}/'\")\n",
    "\n",
    "# 2. 从每个集中取5个例子\n",
    "datasets_to_check = {\n",
    "    'train': Radio_train,\n",
    "    'val': Radio_val,\n",
    "    'test': Radio_test\n",
    "}\n",
    "num_samples_to_check = 5\n",
    "\n",
    "for phase, dataset in datasets_to_check.items():\n",
    "    print(f\"\\n--- 正在处理 {phase} 集 ---\")\n",
    "    for i in range(num_samples_to_check):\n",
    "        # 从加载器中获取数据\n",
    "        inputs_tensor, gain_tensor, name = dataset[i]\n",
    "\n",
    "        # 3. 将Tensor转换为可显示的Numpy数组\n",
    "        # --- 处理Input Tensor (4通道 -> 3通道RGB) ---\n",
    "        # 我们将Buildings映射到红色通道，Tx映射到绿色通道\n",
    "        buildings_channel = inputs_tensor[0].numpy()\n",
    "        tx_channel = inputs_tensor[1].numpy()\n",
    "        \n",
    "        # 创建一个 HxWxC 格式的RGB图像\n",
    "        input_rgb_np = np.zeros((512, 512, 3), dtype=np.uint8)\n",
    "        input_rgb_np[:, :, 0] = (buildings_channel * 255).astype(np.uint8) # 红色: 建筑物\n",
    "        input_rgb_np[:, :, 1] = (tx_channel * 255).astype(np.uint8)      # 绿色: 发射器\n",
    "\n",
    "        # --- 处理Gain Tensor (1通道 -> 3通道RGB) ---\n",
    "        gain_np = gain_tensor.squeeze(0).numpy() # 移除通道维度\n",
    "        gain_rgb_np = (np.stack([gain_np] * 3, axis=-1) * 255).astype(np.uint8)\n",
    "\n",
    "        # 4. 将Input和Gain拼接并保存\n",
    "        fig, ax = plt.subplots(1, 2, figsize=(12, 6))\n",
    "        fig.suptitle(f'Sample from {phase.upper()} Set - Name: {name}', fontsize=16)\n",
    "\n",
    "        ax[0].imshow(input_rgb_np)\n",
    "        ax[0].set_title('Input (R: Buildings, G: Tx)')\n",
    "        ax[0].axis('off')\n",
    "\n",
    "        ax[1].imshow(gain_rgb_np)\n",
    "        ax[1].set_title('Ground Truth (Gain)')\n",
    "        ax[1].axis('off')\n",
    "        \n",
    "        # 构建文件名并保存\n",
    "        filename = os.path.join(output_dir, f\"{phase}_{name}.png\")\n",
    "        plt.savefig(filename, bbox_inches='tight')\n",
    "        plt.close(fig) # 关闭图像以释放内存\n",
    "        \n",
    "        print(f\"已保存: {filename}\")"
   ]
  },
  {
   "cell_type": "markdown",
   "metadata": {},
   "source": [
    "## Create Directory For Saving Examples"
   ]
  },
  {
   "cell_type": "code",
   "execution_count": 24,
   "metadata": {},
   "outputs": [],
   "source": [
    "import os\n",
    "\n",
    "try:\n",
    "    os.mkdir('./Examples')\n",
    "except OSError as error:\n",
    "    print(error)"
   ]
  },
  {
   "cell_type": "markdown",
   "metadata": {},
   "source": [
    "## Save Image Examples for DPM Data\n",
    "### Load DPM Model For Inference"
   ]
  },
  {
   "cell_type": "code",
   "execution_count": 25,
   "metadata": {
    "scrolled": true
   },
   "outputs": [
    {
     "data": {
      "text/plain": [
       "RadioWNet(\n",
       "  (layer00): Sequential(\n",
       "    (0): Conv2d(4, 10, kernel_size=(3, 3), stride=(1, 1), padding=(1, 1))\n",
       "    (1): ReLU(inplace=True)\n",
       "    (2): MaxPool2d(kernel_size=1, stride=1, padding=0, dilation=1, ceil_mode=False)\n",
       "  )\n",
       "  (layer0): Sequential(\n",
       "    (0): Conv2d(10, 40, kernel_size=(5, 5), stride=(1, 1), padding=(2, 2))\n",
       "    (1): ReLU(inplace=True)\n",
       "    (2): MaxPool2d(kernel_size=2, stride=2, padding=0, dilation=1, ceil_mode=False)\n",
       "  )\n",
       "  (layer1): Sequential(\n",
       "    (0): Conv2d(40, 50, kernel_size=(5, 5), stride=(1, 1), padding=(2, 2))\n",
       "    (1): ReLU(inplace=True)\n",
       "    (2): MaxPool2d(kernel_size=2, stride=2, padding=0, dilation=1, ceil_mode=False)\n",
       "  )\n",
       "  (layer10): Sequential(\n",
       "    (0): Conv2d(50, 60, kernel_size=(5, 5), stride=(1, 1), padding=(2, 2))\n",
       "    (1): ReLU(inplace=True)\n",
       "    (2): MaxPool2d(kernel_size=1, stride=1, padding=0, dilation=1, ceil_mode=False)\n",
       "  )\n",
       "  (layer2): Sequential(\n",
       "    (0): Conv2d(60, 100, kernel_size=(5, 5), stride=(1, 1), padding=(2, 2))\n",
       "    (1): ReLU(inplace=True)\n",
       "    (2): MaxPool2d(kernel_size=2, stride=2, padding=0, dilation=1, ceil_mode=False)\n",
       "  )\n",
       "  (layer20): Sequential(\n",
       "    (0): Conv2d(100, 100, kernel_size=(3, 3), stride=(1, 1), padding=(1, 1))\n",
       "    (1): ReLU(inplace=True)\n",
       "    (2): MaxPool2d(kernel_size=1, stride=1, padding=0, dilation=1, ceil_mode=False)\n",
       "  )\n",
       "  (layer3): Sequential(\n",
       "    (0): Conv2d(100, 150, kernel_size=(5, 5), stride=(1, 1), padding=(2, 2))\n",
       "    (1): ReLU(inplace=True)\n",
       "    (2): MaxPool2d(kernel_size=2, stride=2, padding=0, dilation=1, ceil_mode=False)\n",
       "  )\n",
       "  (layer4): Sequential(\n",
       "    (0): Conv2d(150, 300, kernel_size=(5, 5), stride=(1, 1), padding=(2, 2))\n",
       "    (1): ReLU(inplace=True)\n",
       "    (2): MaxPool2d(kernel_size=2, stride=2, padding=0, dilation=1, ceil_mode=False)\n",
       "  )\n",
       "  (layer5): Sequential(\n",
       "    (0): Conv2d(300, 500, kernel_size=(5, 5), stride=(1, 1), padding=(2, 2))\n",
       "    (1): ReLU(inplace=True)\n",
       "    (2): MaxPool2d(kernel_size=2, stride=2, padding=0, dilation=1, ceil_mode=False)\n",
       "  )\n",
       "  (conv_up5): Sequential(\n",
       "    (0): ConvTranspose2d(500, 300, kernel_size=(4, 4), stride=(2, 2), padding=(1, 1))\n",
       "    (1): ReLU(inplace=True)\n",
       "  )\n",
       "  (conv_up4): Sequential(\n",
       "    (0): ConvTranspose2d(600, 150, kernel_size=(4, 4), stride=(2, 2), padding=(1, 1))\n",
       "    (1): ReLU(inplace=True)\n",
       "  )\n",
       "  (conv_up3): Sequential(\n",
       "    (0): ConvTranspose2d(300, 100, kernel_size=(4, 4), stride=(2, 2), padding=(1, 1))\n",
       "    (1): ReLU(inplace=True)\n",
       "  )\n",
       "  (conv_up20): Sequential(\n",
       "    (0): Conv2d(200, 100, kernel_size=(3, 3), stride=(1, 1), padding=(1, 1))\n",
       "    (1): ReLU(inplace=True)\n",
       "    (2): MaxPool2d(kernel_size=1, stride=1, padding=0, dilation=1, ceil_mode=False)\n",
       "  )\n",
       "  (conv_up2): Sequential(\n",
       "    (0): ConvTranspose2d(200, 60, kernel_size=(6, 6), stride=(2, 2), padding=(2, 2))\n",
       "    (1): ReLU(inplace=True)\n",
       "  )\n",
       "  (conv_up10): Sequential(\n",
       "    (0): Conv2d(120, 50, kernel_size=(5, 5), stride=(1, 1), padding=(2, 2))\n",
       "    (1): ReLU(inplace=True)\n",
       "    (2): MaxPool2d(kernel_size=1, stride=1, padding=0, dilation=1, ceil_mode=False)\n",
       "  )\n",
       "  (conv_up1): Sequential(\n",
       "    (0): ConvTranspose2d(100, 40, kernel_size=(6, 6), stride=(2, 2), padding=(2, 2))\n",
       "    (1): ReLU(inplace=True)\n",
       "  )\n",
       "  (conv_up0): Sequential(\n",
       "    (0): ConvTranspose2d(80, 20, kernel_size=(6, 6), stride=(2, 2), padding=(2, 2))\n",
       "    (1): ReLU(inplace=True)\n",
       "  )\n",
       "  (conv_up00): Sequential(\n",
       "    (0): Conv2d(34, 20, kernel_size=(5, 5), stride=(1, 1), padding=(2, 2))\n",
       "    (1): ReLU(inplace=True)\n",
       "    (2): MaxPool2d(kernel_size=1, stride=1, padding=0, dilation=1, ceil_mode=False)\n",
       "  )\n",
       "  (conv_up000): Sequential(\n",
       "    (0): Conv2d(24, 1, kernel_size=(5, 5), stride=(1, 1), padding=(2, 2))\n",
       "    (1): ReLU(inplace=True)\n",
       "    (2): MaxPool2d(kernel_size=1, stride=1, padding=0, dilation=1, ceil_mode=False)\n",
       "  )\n",
       "  (Wlayer00): Sequential(\n",
       "    (0): Conv2d(5, 20, kernel_size=(3, 3), stride=(1, 1), padding=(1, 1))\n",
       "    (1): ReLU(inplace=True)\n",
       "    (2): MaxPool2d(kernel_size=1, stride=1, padding=0, dilation=1, ceil_mode=False)\n",
       "  )\n",
       "  (Wlayer0): Sequential(\n",
       "    (0): Conv2d(20, 30, kernel_size=(5, 5), stride=(1, 1), padding=(2, 2))\n",
       "    (1): ReLU(inplace=True)\n",
       "    (2): MaxPool2d(kernel_size=2, stride=2, padding=0, dilation=1, ceil_mode=False)\n",
       "  )\n",
       "  (Wlayer1): Sequential(\n",
       "    (0): Conv2d(30, 40, kernel_size=(5, 5), stride=(1, 1), padding=(2, 2))\n",
       "    (1): ReLU(inplace=True)\n",
       "    (2): MaxPool2d(kernel_size=2, stride=2, padding=0, dilation=1, ceil_mode=False)\n",
       "  )\n",
       "  (Wlayer10): Sequential(\n",
       "    (0): Conv2d(40, 50, kernel_size=(5, 5), stride=(1, 1), padding=(2, 2))\n",
       "    (1): ReLU(inplace=True)\n",
       "    (2): MaxPool2d(kernel_size=1, stride=1, padding=0, dilation=1, ceil_mode=False)\n",
       "  )\n",
       "  (Wlayer2): Sequential(\n",
       "    (0): Conv2d(50, 60, kernel_size=(5, 5), stride=(1, 1), padding=(2, 2))\n",
       "    (1): ReLU(inplace=True)\n",
       "    (2): MaxPool2d(kernel_size=2, stride=2, padding=0, dilation=1, ceil_mode=False)\n",
       "  )\n",
       "  (Wlayer20): Sequential(\n",
       "    (0): Conv2d(60, 70, kernel_size=(3, 3), stride=(1, 1), padding=(1, 1))\n",
       "    (1): ReLU(inplace=True)\n",
       "    (2): MaxPool2d(kernel_size=1, stride=1, padding=0, dilation=1, ceil_mode=False)\n",
       "  )\n",
       "  (Wlayer3): Sequential(\n",
       "    (0): Conv2d(70, 90, kernel_size=(5, 5), stride=(1, 1), padding=(2, 2))\n",
       "    (1): ReLU(inplace=True)\n",
       "    (2): MaxPool2d(kernel_size=2, stride=2, padding=0, dilation=1, ceil_mode=False)\n",
       "  )\n",
       "  (Wlayer4): Sequential(\n",
       "    (0): Conv2d(90, 110, kernel_size=(5, 5), stride=(1, 1), padding=(2, 2))\n",
       "    (1): ReLU(inplace=True)\n",
       "    (2): MaxPool2d(kernel_size=2, stride=2, padding=0, dilation=1, ceil_mode=False)\n",
       "  )\n",
       "  (Wlayer5): Sequential(\n",
       "    (0): Conv2d(110, 150, kernel_size=(5, 5), stride=(1, 1), padding=(2, 2))\n",
       "    (1): ReLU(inplace=True)\n",
       "    (2): MaxPool2d(kernel_size=2, stride=2, padding=0, dilation=1, ceil_mode=False)\n",
       "  )\n",
       "  (Wconv_up5): Sequential(\n",
       "    (0): ConvTranspose2d(150, 110, kernel_size=(4, 4), stride=(2, 2), padding=(1, 1))\n",
       "    (1): ReLU(inplace=True)\n",
       "  )\n",
       "  (Wconv_up4): Sequential(\n",
       "    (0): ConvTranspose2d(220, 90, kernel_size=(4, 4), stride=(2, 2), padding=(1, 1))\n",
       "    (1): ReLU(inplace=True)\n",
       "  )\n",
       "  (Wconv_up3): Sequential(\n",
       "    (0): ConvTranspose2d(180, 70, kernel_size=(4, 4), stride=(2, 2), padding=(1, 1))\n",
       "    (1): ReLU(inplace=True)\n",
       "  )\n",
       "  (Wconv_up20): Sequential(\n",
       "    (0): Conv2d(140, 60, kernel_size=(3, 3), stride=(1, 1), padding=(1, 1))\n",
       "    (1): ReLU(inplace=True)\n",
       "    (2): MaxPool2d(kernel_size=1, stride=1, padding=0, dilation=1, ceil_mode=False)\n",
       "  )\n",
       "  (Wconv_up2): Sequential(\n",
       "    (0): ConvTranspose2d(120, 50, kernel_size=(6, 6), stride=(2, 2), padding=(2, 2))\n",
       "    (1): ReLU(inplace=True)\n",
       "  )\n",
       "  (Wconv_up10): Sequential(\n",
       "    (0): Conv2d(100, 40, kernel_size=(5, 5), stride=(1, 1), padding=(2, 2))\n",
       "    (1): ReLU(inplace=True)\n",
       "    (2): MaxPool2d(kernel_size=1, stride=1, padding=0, dilation=1, ceil_mode=False)\n",
       "  )\n",
       "  (Wconv_up1): Sequential(\n",
       "    (0): ConvTranspose2d(80, 30, kernel_size=(6, 6), stride=(2, 2), padding=(2, 2))\n",
       "    (1): ReLU(inplace=True)\n",
       "  )\n",
       "  (Wconv_up0): Sequential(\n",
       "    (0): ConvTranspose2d(60, 20, kernel_size=(6, 6), stride=(2, 2), padding=(2, 2))\n",
       "    (1): ReLU(inplace=True)\n",
       "  )\n",
       "  (Wconv_up00): Sequential(\n",
       "    (0): Conv2d(45, 20, kernel_size=(5, 5), stride=(1, 1), padding=(2, 2))\n",
       "    (1): ReLU(inplace=True)\n",
       "    (2): MaxPool2d(kernel_size=1, stride=1, padding=0, dilation=1, ceil_mode=False)\n",
       "  )\n",
       "  (Wconv_up000): Sequential(\n",
       "    (0): Conv2d(25, 1, kernel_size=(5, 5), stride=(1, 1), padding=(2, 2))\n",
       "    (1): ReLU(inplace=True)\n",
       "    (2): MaxPool2d(kernel_size=1, stride=1, padding=0, dilation=1, ceil_mode=False)\n",
       "  )\n",
       ")"
      ]
     },
     "execution_count": 25,
     "metadata": {},
     "output_type": "execute_result"
    }
   ],
   "source": [
    "model = modules.RadioWNet(phase = \"secondU\")\n",
    "model.load_state_dict(torch.load('RadioWNet_c_MIMO/Trained_Model_SecondU.pt'))\n",
    "model.to(device)"
   ]
  },
  {
   "cell_type": "code",
   "execution_count": 1,
   "metadata": {},
   "outputs": [
    {
     "name": "stderr",
     "output_type": "stream",
     "text": [
      "/mnt/mydisk/hgjia/scr/my_python311_env/lib/python3.11/site-packages/tqdm/auto.py:21: TqdmWarning: IProgress not found. Please update jupyter and ipywidgets. See https://ipywidgets.readthedocs.io/en/stable/user_install.html\n",
      "  from .autonotebook import tqdm as notebook_tqdm\n"
     ]
    },
    {
     "name": "stdout",
     "output_type": "stream",
     "text": [
      "使用设备: cuda:1\n",
      "测试集总长度: 6000\n",
      "开始处理，将保存 1200 个预测结果和 1200 个真实值图片...\n",
      "已保存 100 对图片\n",
      "已保存 200 对图片\n",
      "已保存 300 对图片\n",
      "已保存 400 对图片\n",
      "已保存 500 对图片\n",
      "已保存 600 对图片\n",
      "已保存 700 对图片\n",
      "已保存 800 对图片\n",
      "已保存 900 对图片\n",
      "已保存 1000 对图片\n",
      "已保存 1100 对图片\n",
      "已保存 1200 对图片\n",
      "完成！共保存了 1200 对图片（1200 个预测结果 + 1200 个真实值）\n",
      "图片保存在 Examples/ 目录下\n",
      "预测结果文件名格式: pred_XXXX.png\n",
      "真实值文件名格式: target_XXXX.png\n"
     ]
    }
   ],
   "source": [
    "import os\n",
    "import numpy as np\n",
    "from PIL import Image\n",
    "import torch\n",
    "from torch.utils.data import DataLoader\n",
    "from lib import loaders_mimo, modules\n",
    "\n",
    "# 创建保存目录\n",
    "try:\n",
    "    os.mkdir('./Examples')\n",
    "except OSError as error:\n",
    "    print(error)\n",
    "\n",
    "# 设置设备\n",
    "device = torch.device(\"cuda:1\" if torch.cuda.is_available() else \"cpu\")\n",
    "print(f\"使用设备: {device}\")\n",
    "\n",
    "# 数据集路径\n",
    "dir_dataset1 = r'/mnt/mydisk/hgjia/data/UrbanMIMOMap'\n",
    "\n",
    "# 加载测试集\n",
    "Radio_test = loaders_mimo.RadioUNet_c_mimo(phase=\"test\", dir_dataset=dir_dataset1)\n",
    "print(f\"测试集总长度: {len(Radio_test)}\")\n",
    "\n",
    "# 加载模型\n",
    "model = modules.RadioWNet(phase=\"secondU\")\n",
    "model_path = './RadioWNet_c_MIMO/Trained_Model_SecondU.pt'\n",
    "model.load_state_dict(torch.load(model_path, map_location=device))\n",
    "model.to(device)\n",
    "model.eval()\n",
    "\n",
    "# 创建数据加载器\n",
    "test_loader = DataLoader(Radio_test, batch_size=1, shuffle=False, num_workers=0)\n",
    "\n",
    "# 保存计数器\n",
    "saved_count = 0\n",
    "max_save = 1200  # 只保存1200个预测结果和1200个真实值\n",
    "\n",
    "print(f\"开始处理，将保存 {max_save} 个预测结果和 {max_save} 个真实值图片...\")\n",
    "\n",
    "# 遍历测试集\n",
    "for batch_idx, (inputs, target, sample_name) in enumerate(test_loader):\n",
    "    if saved_count >= max_save:\n",
    "        break\n",
    "        \n",
    "    # 将数据移到设备上\n",
    "    inputs = inputs.to(device)\n",
    "    target = target.to(device)\n",
    "    \n",
    "    # 模型预测\n",
    "    with torch.no_grad():\n",
    "        pred1, pred = model(inputs)\n",
    "    \n",
    "    # 处理预测结果并保存\n",
    "    pred_gray = (255 * pred.detach().cpu().numpy()[0][0]).astype(np.uint8)\n",
    "    im_pred_gray = Image.fromarray(pred_gray, 'L')\n",
    "    \n",
    "    # 保存预测结果\n",
    "    pred_filename = f\"Examples/pred_{saved_count:04d}.png\"\n",
    "    im_pred_gray.save(pred_filename)\n",
    "    \n",
    "    # 处理真实值并保存\n",
    "    target_gray = (255 * target.detach().cpu().numpy()[0][0]).astype(np.uint8)\n",
    "    im_target_gray = Image.fromarray(target_gray, 'L')\n",
    "    \n",
    "    # 保存真实值\n",
    "    target_filename = f\"Examples/target_{saved_count:04d}.png\"\n",
    "    im_target_gray.save(target_filename)\n",
    "    \n",
    "    # 打印进度\n",
    "    if (saved_count + 1) % 100 == 0:\n",
    "        print(f\"已保存 {saved_count + 1} 对图片\")\n",
    "    \n",
    "    saved_count += 1\n",
    "\n",
    "print(f\"完成！共保存了 {saved_count} 对图片（{saved_count} 个预测结果 + {saved_count} 个真实值）\")\n",
    "print(f\"图片保存在 Examples/ 目录下\")\n",
    "print(f\"预测结果文件名格式: pred_XXXX.png\")\n",
    "print(f\"真实值文件名格式: target_XXXX.png\")"
   ]
  }
 ],
 "metadata": {
  "kernelspec": {
   "display_name": "my_python311_env",
   "language": "python",
   "name": "python3"
  },
  "language_info": {
   "codemirror_mode": {
    "name": "ipython",
    "version": 3
   },
   "file_extension": ".py",
   "mimetype": "text/x-python",
   "name": "python",
   "nbconvert_exporter": "python",
   "pygments_lexer": "ipython3",
   "version": "3.11.8"
  }
 },
 "nbformat": 4,
 "nbformat_minor": 4
}
